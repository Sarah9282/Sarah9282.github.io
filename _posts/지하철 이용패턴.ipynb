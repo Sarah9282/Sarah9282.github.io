{
 "cells": [
  {
   "cell_type": "markdown",
   "id": "wicked-punch",
   "metadata": {
    "id": "wicked-punch"
   },
   "source": [
    "## 지하철 이용패턴"
   ]
  },
  {
   "cell_type": "markdown",
   "id": "lonely-encoding",
   "metadata": {
    "id": "lonely-encoding"
   },
   "source": [
    "### 1. 데이터 불러오기 "
   ]
  },
  {
   "cell_type": "code",
   "execution_count": 1,
   "id": "bibliographic-satellite",
   "metadata": {
    "ExecuteTime": {
     "end_time": "2022-08-01T16:48:32.482206Z",
     "start_time": "2022-08-01T16:48:30.418952Z"
    },
    "id": "bibliographic-satellite",
    "scrolled": true
   },
   "outputs": [],
   "source": [
    "# 라이브러리\n",
    "import numpy as np\n",
    "import pandas as pd\n",
    "import matplotlib as mpl\n",
    "import matplotlib.pyplot as plt\n",
    "import seaborn as sns\n",
    "%matplotlib inline\n",
    "mpl.rcParams['axes.unicode_minus'] = False  # matplotlib 마이너스 기호 깨짐 방지\n",
    "plt.rcParams['font.family'] = 'AppleGothic'  # mac 한글\n",
    "\n",
    "import warnings\n",
    "warnings.filterwarnings(\"ignore\")\n",
    "\n",
    "df = pd.read_excel(\"./2021년 11월  교통카드 통계자료.xls\", sheet_name=3)"
   ]
  },
  {
   "cell_type": "code",
   "execution_count": 2,
   "id": "3903bf98",
   "metadata": {
    "ExecuteTime": {
     "end_time": "2022-08-01T16:48:32.487462Z",
     "start_time": "2022-08-01T16:48:32.482954Z"
    }
   },
   "outputs": [],
   "source": [
    "# 첫번째 row 및 사용하지 않는 columns 제거\n",
    "df.drop(index=0, inplace=True)\n",
    "df.drop(columns=['사용월', '역ID', '작업일시'], inplace=True)"
   ]
  },
  {
   "cell_type": "code",
   "execution_count": 3,
   "id": "fb8301a0",
   "metadata": {
    "ExecuteTime": {
     "end_time": "2022-08-01T16:48:32.492872Z",
     "start_time": "2022-08-01T16:48:32.488915Z"
    }
   },
   "outputs": [],
   "source": [
    "# column 이름 변경\n",
    "col_names = []\n",
    "\n",
    "for i in range(24):  # 승/하차 columns(48개 / 2)\n",
    "    col_names.append(f\"승차_{(i+4) % 24}시\")\n",
    "    col_names.append(f\"하차_{(i+4) % 24}시\")\n",
    "    \n",
    "df.columns = df.columns[:2].tolist() + col_names"
   ]
  },
  {
   "cell_type": "code",
   "execution_count": 4,
   "id": "e57704e3",
   "metadata": {
    "ExecuteTime": {
     "end_time": "2022-08-01T16:48:32.531080Z",
     "start_time": "2022-08-01T16:48:32.494007Z"
    },
    "scrolled": true
   },
   "outputs": [
    {
     "data": {
      "text/html": [
       "<div>\n",
       "<style scoped>\n",
       "    .dataframe tbody tr th:only-of-type {\n",
       "        vertical-align: middle;\n",
       "    }\n",
       "\n",
       "    .dataframe tbody tr th {\n",
       "        vertical-align: top;\n",
       "    }\n",
       "\n",
       "    .dataframe thead th {\n",
       "        text-align: right;\n",
       "    }\n",
       "</style>\n",
       "<table border=\"1\" class=\"dataframe\">\n",
       "  <thead>\n",
       "    <tr style=\"text-align: right;\">\n",
       "      <th></th>\n",
       "      <th>호선명</th>\n",
       "      <th>지하철역</th>\n",
       "      <th>승차_4시</th>\n",
       "      <th>하차_4시</th>\n",
       "      <th>승차_5시</th>\n",
       "      <th>하차_5시</th>\n",
       "      <th>승차_6시</th>\n",
       "      <th>하차_6시</th>\n",
       "      <th>승차_7시</th>\n",
       "      <th>하차_7시</th>\n",
       "      <th>...</th>\n",
       "      <th>승차_23시</th>\n",
       "      <th>하차_23시</th>\n",
       "      <th>승차_0시</th>\n",
       "      <th>하차_0시</th>\n",
       "      <th>승차_1시</th>\n",
       "      <th>하차_1시</th>\n",
       "      <th>승차_2시</th>\n",
       "      <th>하차_2시</th>\n",
       "      <th>승차_3시</th>\n",
       "      <th>하차_3시</th>\n",
       "    </tr>\n",
       "  </thead>\n",
       "  <tbody>\n",
       "    <tr>\n",
       "      <th>605</th>\n",
       "      <td>우이신설선</td>\n",
       "      <td>북한산보국문</td>\n",
       "      <td>3</td>\n",
       "      <td>0</td>\n",
       "      <td>1954</td>\n",
       "      <td>501</td>\n",
       "      <td>6236</td>\n",
       "      <td>2314</td>\n",
       "      <td>20315</td>\n",
       "      <td>4547</td>\n",
       "      <td>...</td>\n",
       "      <td>1025</td>\n",
       "      <td>5016</td>\n",
       "      <td>0</td>\n",
       "      <td>0</td>\n",
       "      <td>0</td>\n",
       "      <td>0</td>\n",
       "      <td>0</td>\n",
       "      <td>0</td>\n",
       "      <td>0</td>\n",
       "      <td>0</td>\n",
       "    </tr>\n",
       "    <tr>\n",
       "      <th>606</th>\n",
       "      <td>우이신설선</td>\n",
       "      <td>정릉</td>\n",
       "      <td>2</td>\n",
       "      <td>2</td>\n",
       "      <td>1948</td>\n",
       "      <td>443</td>\n",
       "      <td>5096</td>\n",
       "      <td>1819</td>\n",
       "      <td>14458</td>\n",
       "      <td>3477</td>\n",
       "      <td>...</td>\n",
       "      <td>606</td>\n",
       "      <td>2544</td>\n",
       "      <td>0</td>\n",
       "      <td>1</td>\n",
       "      <td>0</td>\n",
       "      <td>0</td>\n",
       "      <td>0</td>\n",
       "      <td>0</td>\n",
       "      <td>0</td>\n",
       "      <td>0</td>\n",
       "    </tr>\n",
       "    <tr>\n",
       "      <th>607</th>\n",
       "      <td>우이신설선</td>\n",
       "      <td>성신여대입구(돈암)</td>\n",
       "      <td>1</td>\n",
       "      <td>0</td>\n",
       "      <td>749</td>\n",
       "      <td>448</td>\n",
       "      <td>971</td>\n",
       "      <td>1239</td>\n",
       "      <td>3467</td>\n",
       "      <td>3789</td>\n",
       "      <td>...</td>\n",
       "      <td>1975</td>\n",
       "      <td>1479</td>\n",
       "      <td>1</td>\n",
       "      <td>0</td>\n",
       "      <td>0</td>\n",
       "      <td>0</td>\n",
       "      <td>0</td>\n",
       "      <td>0</td>\n",
       "      <td>0</td>\n",
       "      <td>0</td>\n",
       "    </tr>\n",
       "    <tr>\n",
       "      <th>608</th>\n",
       "      <td>우이신설선</td>\n",
       "      <td>보문</td>\n",
       "      <td>1</td>\n",
       "      <td>0</td>\n",
       "      <td>440</td>\n",
       "      <td>184</td>\n",
       "      <td>851</td>\n",
       "      <td>1345</td>\n",
       "      <td>1944</td>\n",
       "      <td>2943</td>\n",
       "      <td>...</td>\n",
       "      <td>468</td>\n",
       "      <td>822</td>\n",
       "      <td>2</td>\n",
       "      <td>31</td>\n",
       "      <td>0</td>\n",
       "      <td>0</td>\n",
       "      <td>0</td>\n",
       "      <td>0</td>\n",
       "      <td>0</td>\n",
       "      <td>0</td>\n",
       "    </tr>\n",
       "    <tr>\n",
       "      <th>609</th>\n",
       "      <td>우이신설선</td>\n",
       "      <td>신설동</td>\n",
       "      <td>73</td>\n",
       "      <td>1</td>\n",
       "      <td>865</td>\n",
       "      <td>829</td>\n",
       "      <td>917</td>\n",
       "      <td>2033</td>\n",
       "      <td>1386</td>\n",
       "      <td>4744</td>\n",
       "      <td>...</td>\n",
       "      <td>556</td>\n",
       "      <td>527</td>\n",
       "      <td>1</td>\n",
       "      <td>131</td>\n",
       "      <td>0</td>\n",
       "      <td>0</td>\n",
       "      <td>0</td>\n",
       "      <td>0</td>\n",
       "      <td>0</td>\n",
       "      <td>0</td>\n",
       "    </tr>\n",
       "  </tbody>\n",
       "</table>\n",
       "<p>5 rows × 50 columns</p>\n",
       "</div>"
      ],
      "text/plain": [
       "       호선명        지하철역  승차_4시  하차_4시  승차_5시  하차_5시  승차_6시  하차_6시  승차_7시  \\\n",
       "605  우이신설선      북한산보국문      3      0   1954    501   6236   2314  20315   \n",
       "606  우이신설선          정릉      2      2   1948    443   5096   1819  14458   \n",
       "607  우이신설선  성신여대입구(돈암)      1      0    749    448    971   1239   3467   \n",
       "608  우이신설선          보문      1      0    440    184    851   1345   1944   \n",
       "609  우이신설선         신설동     73      1    865    829    917   2033   1386   \n",
       "\n",
       "     하차_7시  ...  승차_23시  하차_23시  승차_0시  하차_0시  승차_1시  하차_1시  승차_2시  하차_2시  \\\n",
       "605   4547  ...    1025    5016      0      0      0      0      0      0   \n",
       "606   3477  ...     606    2544      0      1      0      0      0      0   \n",
       "607   3789  ...    1975    1479      1      0      0      0      0      0   \n",
       "608   2943  ...     468     822      2     31      0      0      0      0   \n",
       "609   4744  ...     556     527      1    131      0      0      0      0   \n",
       "\n",
       "     승차_3시  하차_3시  \n",
       "605      0      0  \n",
       "606      0      0  \n",
       "607      0      0  \n",
       "608      0      0  \n",
       "609      0      0  \n",
       "\n",
       "[5 rows x 50 columns]"
      ]
     },
     "execution_count": 4,
     "metadata": {},
     "output_type": "execute_result"
    }
   ],
   "source": [
    "# dtype 변경\n",
    "for col in df.columns[2:]:\n",
    "    df[col] = df[col].str.replace(\",\", \"\").astype(np.int32)\n",
    "    \n",
    "df.tail()"
   ]
  },
  {
   "cell_type": "code",
   "execution_count": 5,
   "id": "195fbfbd",
   "metadata": {
    "ExecuteTime": {
     "end_time": "2022-08-01T16:48:32.543508Z",
     "start_time": "2022-08-01T16:48:32.531941Z"
    },
    "scrolled": true
   },
   "outputs": [
    {
     "name": "stdout",
     "output_type": "stream",
     "text": [
      "<class 'pandas.core.frame.DataFrame'>\n",
      "Int64Index: 609 entries, 1 to 609\n",
      "Data columns (total 50 columns):\n",
      " #   Column  Non-Null Count  Dtype \n",
      "---  ------  --------------  ----- \n",
      " 0   호선명     609 non-null    object\n",
      " 1   지하철역    609 non-null    object\n",
      " 2   승차_4시   609 non-null    int32 \n",
      " 3   하차_4시   609 non-null    int32 \n",
      " 4   승차_5시   609 non-null    int32 \n",
      " 5   하차_5시   609 non-null    int32 \n",
      " 6   승차_6시   609 non-null    int32 \n",
      " 7   하차_6시   609 non-null    int32 \n",
      " 8   승차_7시   609 non-null    int32 \n",
      " 9   하차_7시   609 non-null    int32 \n",
      " 10  승차_8시   609 non-null    int32 \n",
      " 11  하차_8시   609 non-null    int32 \n",
      " 12  승차_9시   609 non-null    int32 \n",
      " 13  하차_9시   609 non-null    int32 \n",
      " 14  승차_10시  609 non-null    int32 \n",
      " 15  하차_10시  609 non-null    int32 \n",
      " 16  승차_11시  609 non-null    int32 \n",
      " 17  하차_11시  609 non-null    int32 \n",
      " 18  승차_12시  609 non-null    int32 \n",
      " 19  하차_12시  609 non-null    int32 \n",
      " 20  승차_13시  609 non-null    int32 \n",
      " 21  하차_13시  609 non-null    int32 \n",
      " 22  승차_14시  609 non-null    int32 \n",
      " 23  하차_14시  609 non-null    int32 \n",
      " 24  승차_15시  609 non-null    int32 \n",
      " 25  하차_15시  609 non-null    int32 \n",
      " 26  승차_16시  609 non-null    int32 \n",
      " 27  하차_16시  609 non-null    int32 \n",
      " 28  승차_17시  609 non-null    int32 \n",
      " 29  하차_17시  609 non-null    int32 \n",
      " 30  승차_18시  609 non-null    int32 \n",
      " 31  하차_18시  609 non-null    int32 \n",
      " 32  승차_19시  609 non-null    int32 \n",
      " 33  하차_19시  609 non-null    int32 \n",
      " 34  승차_20시  609 non-null    int32 \n",
      " 35  하차_20시  609 non-null    int32 \n",
      " 36  승차_21시  609 non-null    int32 \n",
      " 37  하차_21시  609 non-null    int32 \n",
      " 38  승차_22시  609 non-null    int32 \n",
      " 39  하차_22시  609 non-null    int32 \n",
      " 40  승차_23시  609 non-null    int32 \n",
      " 41  하차_23시  609 non-null    int32 \n",
      " 42  승차_0시   609 non-null    int32 \n",
      " 43  하차_0시   609 non-null    int32 \n",
      " 44  승차_1시   609 non-null    int32 \n",
      " 45  하차_1시   609 non-null    int32 \n",
      " 46  승차_2시   609 non-null    int32 \n",
      " 47  하차_2시   609 non-null    int32 \n",
      " 48  승차_3시   609 non-null    int32 \n",
      " 49  하차_3시   609 non-null    int32 \n",
      "dtypes: int32(48), object(2)\n",
      "memory usage: 128.5+ KB\n"
     ]
    }
   ],
   "source": [
    "df.info()"
   ]
  },
  {
   "cell_type": "markdown",
   "id": "alone-respondent",
   "metadata": {
    "id": "alone-respondent"
   },
   "source": [
    "### 2. EDA"
   ]
  },
  {
   "cell_type": "code",
   "execution_count": 6,
   "id": "false-month",
   "metadata": {
    "ExecuteTime": {
     "end_time": "2022-08-01T16:48:32.548344Z",
     "start_time": "2022-08-01T16:48:32.544431Z"
    },
    "id": "false-month"
   },
   "outputs": [
    {
     "data": {
      "text/plain": [
       "5호선         56\n",
       "7호선         51\n",
       "2호선         50\n",
       "경부선         39\n",
       "6호선         39\n",
       "분당선         35\n",
       "3호선         34\n",
       "경원선         30\n",
       "경의선         29\n",
       "4호선         26\n",
       "9호선         25\n",
       "중앙선         21\n",
       "경인선         20\n",
       "경춘선         19\n",
       "수인선         18\n",
       "8호선         17\n",
       "공항철도 1호선    14\n",
       "9호선2~3단계    13\n",
       "안산선         13\n",
       "우이신설선       13\n",
       "일산선         11\n",
       "경강선         11\n",
       "1호선         10\n",
       "과천선          8\n",
       "장항선          7\n",
       "Name: 호선명, dtype: int64"
      ]
     },
     "execution_count": 6,
     "metadata": {},
     "output_type": "execute_result"
    }
   ],
   "source": [
    "# 호선\n",
    "df.호선명.value_counts()"
   ]
  },
  {
   "cell_type": "code",
   "execution_count": 7,
   "id": "845caab7",
   "metadata": {
    "ExecuteTime": {
     "end_time": "2022-08-01T16:48:32.645329Z",
     "start_time": "2022-08-01T16:48:32.549327Z"
    },
    "scrolled": true
   },
   "outputs": [
    {
     "data": {
      "text/html": [
       "<style type=\"text/css\">\n",
       "#T_97ec3_row0_col0, #T_97ec3_row0_col3, #T_97ec3_row0_col4, #T_97ec3_row0_col5, #T_97ec3_row0_col6, #T_97ec3_row1_col0, #T_97ec3_row1_col1, #T_97ec3_row1_col2, #T_97ec3_row1_col3, #T_97ec3_row1_col4, #T_97ec3_row1_col5, #T_97ec3_row1_col6, #T_97ec3_row1_col7, #T_97ec3_row2_col0, #T_97ec3_row2_col3, #T_97ec3_row3_col0, #T_97ec3_row3_col3, #T_97ec3_row4_col0, #T_97ec3_row4_col3, #T_97ec3_row5_col0, #T_97ec3_row5_col3, #T_97ec3_row6_col0, #T_97ec3_row6_col3, #T_97ec3_row7_col0, #T_97ec3_row7_col3, #T_97ec3_row8_col0, #T_97ec3_row8_col3, #T_97ec3_row9_col0, #T_97ec3_row9_col3, #T_97ec3_row10_col0, #T_97ec3_row10_col3, #T_97ec3_row11_col0, #T_97ec3_row11_col3, #T_97ec3_row12_col0, #T_97ec3_row12_col3, #T_97ec3_row13_col0, #T_97ec3_row13_col3, #T_97ec3_row14_col0, #T_97ec3_row14_col3, #T_97ec3_row15_col0, #T_97ec3_row15_col3, #T_97ec3_row16_col0, #T_97ec3_row16_col3, #T_97ec3_row17_col0, #T_97ec3_row17_col3, #T_97ec3_row18_col0, #T_97ec3_row18_col3, #T_97ec3_row19_col0, #T_97ec3_row19_col3, #T_97ec3_row20_col0, #T_97ec3_row20_col3, #T_97ec3_row21_col0, #T_97ec3_row21_col3, #T_97ec3_row22_col0, #T_97ec3_row22_col3, #T_97ec3_row23_col0, #T_97ec3_row23_col3, #T_97ec3_row24_col0, #T_97ec3_row24_col3, #T_97ec3_row25_col0, #T_97ec3_row25_col3, #T_97ec3_row26_col0, #T_97ec3_row26_col3, #T_97ec3_row27_col0, #T_97ec3_row27_col3, #T_97ec3_row28_col0, #T_97ec3_row28_col3, #T_97ec3_row29_col0, #T_97ec3_row29_col3, #T_97ec3_row30_col0, #T_97ec3_row30_col3, #T_97ec3_row31_col0, #T_97ec3_row31_col3, #T_97ec3_row32_col0, #T_97ec3_row32_col3, #T_97ec3_row33_col0, #T_97ec3_row33_col3, #T_97ec3_row34_col0, #T_97ec3_row34_col3, #T_97ec3_row35_col0, #T_97ec3_row35_col3, #T_97ec3_row36_col0, #T_97ec3_row36_col3, #T_97ec3_row37_col0, #T_97ec3_row37_col3, #T_97ec3_row38_col0, #T_97ec3_row38_col3, #T_97ec3_row39_col0, #T_97ec3_row39_col3, #T_97ec3_row40_col0, #T_97ec3_row40_col1, #T_97ec3_row40_col2, #T_97ec3_row40_col3, #T_97ec3_row40_col4, #T_97ec3_row40_col5, #T_97ec3_row40_col6, #T_97ec3_row40_col7, #T_97ec3_row41_col0, #T_97ec3_row41_col3, #T_97ec3_row42_col0, #T_97ec3_row42_col1, #T_97ec3_row42_col2, #T_97ec3_row42_col3, #T_97ec3_row42_col4, #T_97ec3_row42_col5, #T_97ec3_row42_col6, #T_97ec3_row42_col7, #T_97ec3_row43_col0, #T_97ec3_row43_col1, #T_97ec3_row43_col2, #T_97ec3_row43_col3, #T_97ec3_row43_col4, #T_97ec3_row43_col5, #T_97ec3_row43_col6, #T_97ec3_row43_col7, #T_97ec3_row44_col0, #T_97ec3_row44_col1, #T_97ec3_row44_col2, #T_97ec3_row44_col3, #T_97ec3_row44_col4, #T_97ec3_row44_col5, #T_97ec3_row44_col6, #T_97ec3_row44_col7, #T_97ec3_row45_col0, #T_97ec3_row45_col1, #T_97ec3_row45_col2, #T_97ec3_row45_col3, #T_97ec3_row45_col4, #T_97ec3_row45_col5, #T_97ec3_row45_col6, #T_97ec3_row45_col7, #T_97ec3_row46_col0, #T_97ec3_row46_col1, #T_97ec3_row46_col2, #T_97ec3_row46_col3, #T_97ec3_row46_col4, #T_97ec3_row46_col5, #T_97ec3_row46_col6, #T_97ec3_row46_col7, #T_97ec3_row47_col0, #T_97ec3_row47_col1, #T_97ec3_row47_col2, #T_97ec3_row47_col3, #T_97ec3_row47_col4, #T_97ec3_row47_col5, #T_97ec3_row47_col6, #T_97ec3_row47_col7 {\n",
       "  background-color: #fff7fb;\n",
       "  color: #000000;\n",
       "}\n",
       "#T_97ec3_row0_col1 {\n",
       "  background-color: #fef6fb;\n",
       "  color: #000000;\n",
       "}\n",
       "#T_97ec3_row0_col2, #T_97ec3_row41_col4 {\n",
       "  background-color: #fdf5fa;\n",
       "  color: #000000;\n",
       "}\n",
       "#T_97ec3_row0_col7, #T_97ec3_row41_col1, #T_97ec3_row41_col2, #T_97ec3_row41_col6 {\n",
       "  background-color: #fbf3f9;\n",
       "  color: #000000;\n",
       "}\n",
       "#T_97ec3_row2_col1, #T_97ec3_row5_col2 {\n",
       "  background-color: #eae6f1;\n",
       "  color: #000000;\n",
       "}\n",
       "#T_97ec3_row2_col2 {\n",
       "  background-color: #efe9f3;\n",
       "  color: #000000;\n",
       "}\n",
       "#T_97ec3_row2_col4, #T_97ec3_row5_col7 {\n",
       "  background-color: #ede7f2;\n",
       "  color: #000000;\n",
       "}\n",
       "#T_97ec3_row2_col5 {\n",
       "  background-color: #e9e5f1;\n",
       "  color: #000000;\n",
       "}\n",
       "#T_97ec3_row2_col6, #T_97ec3_row39_col2 {\n",
       "  background-color: #e7e3f0;\n",
       "  color: #000000;\n",
       "}\n",
       "#T_97ec3_row2_col7 {\n",
       "  background-color: #f0eaf4;\n",
       "  color: #000000;\n",
       "}\n",
       "#T_97ec3_row3_col1 {\n",
       "  background-color: #faf3f9;\n",
       "  color: #000000;\n",
       "}\n",
       "#T_97ec3_row3_col2, #T_97ec3_row3_col7 {\n",
       "  background-color: #fbf4f9;\n",
       "  color: #000000;\n",
       "}\n",
       "#T_97ec3_row3_col4, #T_97ec3_row3_col5, #T_97ec3_row3_col6 {\n",
       "  background-color: #faf2f8;\n",
       "  color: #000000;\n",
       "}\n",
       "#T_97ec3_row4_col1, #T_97ec3_row21_col7, #T_97ec3_row32_col5, #T_97ec3_row37_col7 {\n",
       "  background-color: #c5cce3;\n",
       "  color: #000000;\n",
       "}\n",
       "#T_97ec3_row4_col2, #T_97ec3_row4_col7, #T_97ec3_row39_col7 {\n",
       "  background-color: #dedcec;\n",
       "  color: #000000;\n",
       "}\n",
       "#T_97ec3_row4_col4 {\n",
       "  background-color: #c2cbe2;\n",
       "  color: #000000;\n",
       "}\n",
       "#T_97ec3_row4_col5, #T_97ec3_row4_col6, #T_97ec3_row34_col6, #T_97ec3_row37_col4 {\n",
       "  background-color: #b8c6e0;\n",
       "  color: #000000;\n",
       "}\n",
       "#T_97ec3_row5_col1, #T_97ec3_row36_col5 {\n",
       "  background-color: #dfddec;\n",
       "  color: #000000;\n",
       "}\n",
       "#T_97ec3_row5_col4, #T_97ec3_row16_col7 {\n",
       "  background-color: #d9d8ea;\n",
       "  color: #000000;\n",
       "}\n",
       "#T_97ec3_row5_col5, #T_97ec3_row5_col6 {\n",
       "  background-color: #dcdaeb;\n",
       "  color: #000000;\n",
       "}\n",
       "#T_97ec3_row6_col1, #T_97ec3_row26_col5 {\n",
       "  background-color: #0f76b3;\n",
       "  color: #f1f1f1;\n",
       "}\n",
       "#T_97ec3_row6_col2, #T_97ec3_row6_col7, #T_97ec3_row11_col5 {\n",
       "  background-color: #73a9cf;\n",
       "  color: #f1f1f1;\n",
       "}\n",
       "#T_97ec3_row6_col4 {\n",
       "  background-color: #1b7eb7;\n",
       "  color: #f1f1f1;\n",
       "}\n",
       "#T_97ec3_row6_col5, #T_97ec3_row11_col7, #T_97ec3_row26_col4 {\n",
       "  background-color: #0567a1;\n",
       "  color: #f1f1f1;\n",
       "}\n",
       "#T_97ec3_row6_col6 {\n",
       "  background-color: #046198;\n",
       "  color: #f1f1f1;\n",
       "}\n",
       "#T_97ec3_row7_col1, #T_97ec3_row7_col4, #T_97ec3_row33_col6 {\n",
       "  background-color: #93b5d6;\n",
       "  color: #000000;\n",
       "}\n",
       "#T_97ec3_row7_col2, #T_97ec3_row7_col5, #T_97ec3_row24_col2 {\n",
       "  background-color: #a4bcda;\n",
       "  color: #000000;\n",
       "}\n",
       "#T_97ec3_row7_col6, #T_97ec3_row12_col6, #T_97ec3_row30_col4, #T_97ec3_row33_col1 {\n",
       "  background-color: #9fbad9;\n",
       "  color: #000000;\n",
       "}\n",
       "#T_97ec3_row7_col7 {\n",
       "  background-color: #b3c3de;\n",
       "  color: #000000;\n",
       "}\n",
       "#T_97ec3_row8_col1 {\n",
       "  background-color: #046096;\n",
       "  color: #f1f1f1;\n",
       "}\n",
       "#T_97ec3_row8_col2 {\n",
       "  background-color: #3b92c1;\n",
       "  color: #f1f1f1;\n",
       "}\n",
       "#T_97ec3_row8_col4 {\n",
       "  background-color: #045a8d;\n",
       "  color: #f1f1f1;\n",
       "}\n",
       "#T_97ec3_row8_col5 {\n",
       "  background-color: #034871;\n",
       "  color: #f1f1f1;\n",
       "}\n",
       "#T_97ec3_row8_col6, #T_97ec3_row28_col1 {\n",
       "  background-color: #03456c;\n",
       "  color: #f1f1f1;\n",
       "}\n",
       "#T_97ec3_row8_col7 {\n",
       "  background-color: #0569a4;\n",
       "  color: #f1f1f1;\n",
       "}\n",
       "#T_97ec3_row9_col1, #T_97ec3_row9_col2, #T_97ec3_row9_col7, #T_97ec3_row29_col4, #T_97ec3_row29_col5, #T_97ec3_row29_col6 {\n",
       "  background-color: #023858;\n",
       "  color: #f1f1f1;\n",
       "}\n",
       "#T_97ec3_row9_col4, #T_97ec3_row28_col5 {\n",
       "  background-color: #056ba7;\n",
       "  color: #f1f1f1;\n",
       "}\n",
       "#T_97ec3_row9_col5, #T_97ec3_row28_col4 {\n",
       "  background-color: #04649e;\n",
       "  color: #f1f1f1;\n",
       "}\n",
       "#T_97ec3_row9_col6 {\n",
       "  background-color: #045788;\n",
       "  color: #f1f1f1;\n",
       "}\n",
       "#T_97ec3_row10_col1 {\n",
       "  background-color: #75a9cf;\n",
       "  color: #f1f1f1;\n",
       "}\n",
       "#T_97ec3_row10_col2, #T_97ec3_row37_col5 {\n",
       "  background-color: #adc1dd;\n",
       "  color: #000000;\n",
       "}\n",
       "#T_97ec3_row10_col4 {\n",
       "  background-color: #4e9ac6;\n",
       "  color: #f1f1f1;\n",
       "}\n",
       "#T_97ec3_row10_col5, #T_97ec3_row22_col4 {\n",
       "  background-color: #549cc7;\n",
       "  color: #f1f1f1;\n",
       "}\n",
       "#T_97ec3_row10_col6, #T_97ec3_row24_col1, #T_97ec3_row31_col7 {\n",
       "  background-color: #5a9ec9;\n",
       "  color: #f1f1f1;\n",
       "}\n",
       "#T_97ec3_row10_col7, #T_97ec3_row11_col4, #T_97ec3_row22_col1, #T_97ec3_row23_col6, #T_97ec3_row34_col7 {\n",
       "  background-color: #83afd3;\n",
       "  color: #f1f1f1;\n",
       "}\n",
       "#T_97ec3_row11_col1 {\n",
       "  background-color: #2c89bd;\n",
       "  color: #f1f1f1;\n",
       "}\n",
       "#T_97ec3_row11_col2 {\n",
       "  background-color: #197db7;\n",
       "  color: #f1f1f1;\n",
       "}\n",
       "#T_97ec3_row11_col6 {\n",
       "  background-color: #3d93c2;\n",
       "  color: #f1f1f1;\n",
       "}\n",
       "#T_97ec3_row12_col1, #T_97ec3_row14_col1, #T_97ec3_row15_col1 {\n",
       "  background-color: #a9bfdc;\n",
       "  color: #000000;\n",
       "}\n",
       "#T_97ec3_row12_col2, #T_97ec3_row39_col5 {\n",
       "  background-color: #d6d6e9;\n",
       "  color: #000000;\n",
       "}\n",
       "#T_97ec3_row12_col4, #T_97ec3_row14_col4, #T_97ec3_row20_col6 {\n",
       "  background-color: #84b0d3;\n",
       "  color: #f1f1f1;\n",
       "}\n",
       "#T_97ec3_row12_col5, #T_97ec3_row18_col6, #T_97ec3_row33_col5 {\n",
       "  background-color: #8bb2d4;\n",
       "  color: #000000;\n",
       "}\n",
       "#T_97ec3_row12_col7, #T_97ec3_row18_col7 {\n",
       "  background-color: #d2d3e7;\n",
       "  color: #000000;\n",
       "}\n",
       "#T_97ec3_row13_col1 {\n",
       "  background-color: #9ebad9;\n",
       "  color: #000000;\n",
       "}\n",
       "#T_97ec3_row13_col2, #T_97ec3_row22_col7, #T_97ec3_row34_col1 {\n",
       "  background-color: #b4c4df;\n",
       "  color: #000000;\n",
       "}\n",
       "#T_97ec3_row13_col4, #T_97ec3_row15_col5, #T_97ec3_row35_col4, #T_97ec3_row35_col6 {\n",
       "  background-color: #a8bedc;\n",
       "  color: #000000;\n",
       "}\n",
       "#T_97ec3_row13_col5, #T_97ec3_row13_col7 {\n",
       "  background-color: #a7bddb;\n",
       "  color: #000000;\n",
       "}\n",
       "#T_97ec3_row13_col6, #T_97ec3_row19_col1, #T_97ec3_row20_col1 {\n",
       "  background-color: #97b7d7;\n",
       "  color: #000000;\n",
       "}\n",
       "#T_97ec3_row14_col2 {\n",
       "  background-color: #d7d6e9;\n",
       "  color: #000000;\n",
       "}\n",
       "#T_97ec3_row14_col5, #T_97ec3_row19_col5 {\n",
       "  background-color: #88b1d4;\n",
       "  color: #000000;\n",
       "}\n",
       "#T_97ec3_row14_col6, #T_97ec3_row17_col5, #T_97ec3_row18_col1 {\n",
       "  background-color: #99b8d8;\n",
       "  color: #000000;\n",
       "}\n",
       "#T_97ec3_row14_col7 {\n",
       "  background-color: #dddbec;\n",
       "  color: #000000;\n",
       "}\n",
       "#T_97ec3_row15_col2, #T_97ec3_row17_col2 {\n",
       "  background-color: #c6cce3;\n",
       "  color: #000000;\n",
       "}\n",
       "#T_97ec3_row15_col4 {\n",
       "  background-color: #a5bddb;\n",
       "  color: #000000;\n",
       "}\n",
       "#T_97ec3_row15_col6, #T_97ec3_row17_col1, #T_97ec3_row24_col7, #T_97ec3_row30_col5, #T_97ec3_row35_col5 {\n",
       "  background-color: #a2bcda;\n",
       "  color: #000000;\n",
       "}\n",
       "#T_97ec3_row15_col7, #T_97ec3_row20_col7 {\n",
       "  background-color: #cacee5;\n",
       "  color: #000000;\n",
       "}\n",
       "#T_97ec3_row16_col1, #T_97ec3_row21_col1 {\n",
       "  background-color: #9cb9d9;\n",
       "  color: #000000;\n",
       "}\n",
       "#T_97ec3_row16_col2, #T_97ec3_row35_col2 {\n",
       "  background-color: #d2d2e7;\n",
       "  color: #000000;\n",
       "}\n",
       "#T_97ec3_row16_col4, #T_97ec3_row22_col5, #T_97ec3_row30_col7 {\n",
       "  background-color: #6fa7ce;\n",
       "  color: #f1f1f1;\n",
       "}\n",
       "#T_97ec3_row16_col5, #T_97ec3_row23_col4 {\n",
       "  background-color: #78abd0;\n",
       "  color: #f1f1f1;\n",
       "}\n",
       "#T_97ec3_row16_col6, #T_97ec3_row21_col4 {\n",
       "  background-color: #8cb3d5;\n",
       "  color: #000000;\n",
       "}\n",
       "#T_97ec3_row17_col4, #T_97ec3_row23_col1, #T_97ec3_row27_col2 {\n",
       "  background-color: #91b5d6;\n",
       "  color: #000000;\n",
       "}\n",
       "#T_97ec3_row17_col6 {\n",
       "  background-color: #96b6d7;\n",
       "  color: #000000;\n",
       "}\n",
       "#T_97ec3_row17_col7 {\n",
       "  background-color: #cccfe5;\n",
       "  color: #000000;\n",
       "}\n",
       "#T_97ec3_row18_col2, #T_97ec3_row36_col6 {\n",
       "  background-color: #cdd0e5;\n",
       "  color: #000000;\n",
       "}\n",
       "#T_97ec3_row18_col4 {\n",
       "  background-color: #67a4cc;\n",
       "  color: #f1f1f1;\n",
       "}\n",
       "#T_97ec3_row18_col5, #T_97ec3_row25_col1, #T_97ec3_row31_col2 {\n",
       "  background-color: #79abd0;\n",
       "  color: #f1f1f1;\n",
       "}\n",
       "#T_97ec3_row19_col2 {\n",
       "  background-color: #bfc9e1;\n",
       "  color: #000000;\n",
       "}\n",
       "#T_97ec3_row19_col4, #T_97ec3_row30_col2, #T_97ec3_row36_col7 {\n",
       "  background-color: #86b0d3;\n",
       "  color: #000000;\n",
       "}\n",
       "#T_97ec3_row19_col6, #T_97ec3_row21_col5 {\n",
       "  background-color: #89b1d4;\n",
       "  color: #000000;\n",
       "}\n",
       "#T_97ec3_row19_col7, #T_97ec3_row35_col7, #T_97ec3_row36_col2 {\n",
       "  background-color: #bdc8e1;\n",
       "  color: #000000;\n",
       "}\n",
       "#T_97ec3_row20_col2, #T_97ec3_row32_col4, #T_97ec3_row36_col1 {\n",
       "  background-color: #c9cee4;\n",
       "  color: #000000;\n",
       "}\n",
       "#T_97ec3_row20_col4 {\n",
       "  background-color: #71a8ce;\n",
       "  color: #f1f1f1;\n",
       "}\n",
       "#T_97ec3_row20_col5 {\n",
       "  background-color: #81aed2;\n",
       "  color: #f1f1f1;\n",
       "}\n",
       "#T_97ec3_row21_col2, #T_97ec3_row23_col7 {\n",
       "  background-color: #c4cbe3;\n",
       "  color: #000000;\n",
       "}\n",
       "#T_97ec3_row21_col6, #T_97ec3_row33_col4 {\n",
       "  background-color: #8fb4d6;\n",
       "  color: #000000;\n",
       "}\n",
       "#T_97ec3_row22_col2 {\n",
       "  background-color: #b9c6e0;\n",
       "  color: #000000;\n",
       "}\n",
       "#T_97ec3_row22_col6 {\n",
       "  background-color: #76aad0;\n",
       "  color: #f1f1f1;\n",
       "}\n",
       "#T_97ec3_row23_col2 {\n",
       "  background-color: #c1cae2;\n",
       "  color: #000000;\n",
       "}\n",
       "#T_97ec3_row23_col5, #T_97ec3_row30_col1, #T_97ec3_row30_col6 {\n",
       "  background-color: #7eadd1;\n",
       "  color: #f1f1f1;\n",
       "}\n",
       "#T_97ec3_row24_col4 {\n",
       "  background-color: #2081b9;\n",
       "  color: #f1f1f1;\n",
       "}\n",
       "#T_97ec3_row24_col5 {\n",
       "  background-color: #3790c0;\n",
       "  color: #f1f1f1;\n",
       "}\n",
       "#T_97ec3_row24_col6, #T_97ec3_row26_col2 {\n",
       "  background-color: #4295c3;\n",
       "  color: #f1f1f1;\n",
       "}\n",
       "#T_97ec3_row25_col2, #T_97ec3_row33_col7, #T_97ec3_row37_col6 {\n",
       "  background-color: #b5c4df;\n",
       "  color: #000000;\n",
       "}\n",
       "#T_97ec3_row25_col4 {\n",
       "  background-color: #5c9fc9;\n",
       "  color: #f1f1f1;\n",
       "}\n",
       "#T_97ec3_row25_col5 {\n",
       "  background-color: #589ec8;\n",
       "  color: #f1f1f1;\n",
       "}\n",
       "#T_97ec3_row25_col6 {\n",
       "  background-color: #69a5cc;\n",
       "  color: #f1f1f1;\n",
       "}\n",
       "#T_97ec3_row25_col7 {\n",
       "  background-color: #bbc7e0;\n",
       "  color: #000000;\n",
       "}\n",
       "#T_97ec3_row26_col1, #T_97ec3_row31_col4 {\n",
       "  background-color: #056faf;\n",
       "  color: #f1f1f1;\n",
       "}\n",
       "#T_97ec3_row26_col6 {\n",
       "  background-color: #056caa;\n",
       "  color: #f1f1f1;\n",
       "}\n",
       "#T_97ec3_row26_col7 {\n",
       "  background-color: #4094c3;\n",
       "  color: #f1f1f1;\n",
       "}\n",
       "#T_97ec3_row27_col1, #T_97ec3_row29_col7 {\n",
       "  background-color: #348ebf;\n",
       "  color: #f1f1f1;\n",
       "}\n",
       "#T_97ec3_row27_col4 {\n",
       "  background-color: #0771b1;\n",
       "  color: #f1f1f1;\n",
       "}\n",
       "#T_97ec3_row27_col5 {\n",
       "  background-color: #1077b4;\n",
       "  color: #f1f1f1;\n",
       "}\n",
       "#T_97ec3_row27_col6 {\n",
       "  background-color: #2182b9;\n",
       "  color: #f1f1f1;\n",
       "}\n",
       "#T_97ec3_row27_col7, #T_97ec3_row32_col7 {\n",
       "  background-color: #a1bbda;\n",
       "  color: #000000;\n",
       "}\n",
       "#T_97ec3_row28_col2 {\n",
       "  background-color: #03517e;\n",
       "  color: #f1f1f1;\n",
       "}\n",
       "#T_97ec3_row28_col6 {\n",
       "  background-color: #045382;\n",
       "  color: #f1f1f1;\n",
       "}\n",
       "#T_97ec3_row28_col7 {\n",
       "  background-color: #046097;\n",
       "  color: #f1f1f1;\n",
       "}\n",
       "#T_97ec3_row29_col1 {\n",
       "  background-color: #045280;\n",
       "  color: #f1f1f1;\n",
       "}\n",
       "#T_97ec3_row29_col2 {\n",
       "  background-color: #2f8bbe;\n",
       "  color: #f1f1f1;\n",
       "}\n",
       "#T_97ec3_row31_col1 {\n",
       "  background-color: #1c7fb8;\n",
       "  color: #f1f1f1;\n",
       "}\n",
       "#T_97ec3_row31_col5, #T_97ec3_row31_col6 {\n",
       "  background-color: #056dab;\n",
       "  color: #f1f1f1;\n",
       "}\n",
       "#T_97ec3_row32_col1, #T_97ec3_row32_col6 {\n",
       "  background-color: #abbfdc;\n",
       "  color: #000000;\n",
       "}\n",
       "#T_97ec3_row32_col2 {\n",
       "  background-color: #acc0dd;\n",
       "  color: #000000;\n",
       "}\n",
       "#T_97ec3_row33_col2 {\n",
       "  background-color: #c8cde4;\n",
       "  color: #000000;\n",
       "}\n",
       "#T_97ec3_row34_col2 {\n",
       "  background-color: #afc1dd;\n",
       "  color: #000000;\n",
       "}\n",
       "#T_97ec3_row34_col4 {\n",
       "  background-color: #d4d4e8;\n",
       "  color: #000000;\n",
       "}\n",
       "#T_97ec3_row34_col5 {\n",
       "  background-color: #ced0e6;\n",
       "  color: #000000;\n",
       "}\n",
       "#T_97ec3_row35_col1 {\n",
       "  background-color: #b1c2de;\n",
       "  color: #000000;\n",
       "}\n",
       "#T_97ec3_row36_col4 {\n",
       "  background-color: #e4e1ef;\n",
       "  color: #000000;\n",
       "}\n",
       "#T_97ec3_row37_col1 {\n",
       "  background-color: #bcc7e1;\n",
       "  color: #000000;\n",
       "}\n",
       "#T_97ec3_row37_col2 {\n",
       "  background-color: #d5d5e8;\n",
       "  color: #000000;\n",
       "}\n",
       "#T_97ec3_row38_col1 {\n",
       "  background-color: #f1ebf4;\n",
       "  color: #000000;\n",
       "}\n",
       "#T_97ec3_row38_col2 {\n",
       "  background-color: #eee8f3;\n",
       "  color: #000000;\n",
       "}\n",
       "#T_97ec3_row38_col4 {\n",
       "  background-color: #f7f0f7;\n",
       "  color: #000000;\n",
       "}\n",
       "#T_97ec3_row38_col5 {\n",
       "  background-color: #f5eff6;\n",
       "  color: #000000;\n",
       "}\n",
       "#T_97ec3_row38_col6 {\n",
       "  background-color: #f2ecf5;\n",
       "  color: #000000;\n",
       "}\n",
       "#T_97ec3_row38_col7 {\n",
       "  background-color: #e0dded;\n",
       "  color: #000000;\n",
       "}\n",
       "#T_97ec3_row39_col1 {\n",
       "  background-color: #dbdaeb;\n",
       "  color: #000000;\n",
       "}\n",
       "#T_97ec3_row39_col4, #T_97ec3_row39_col6 {\n",
       "  background-color: #d8d7e9;\n",
       "  color: #000000;\n",
       "}\n",
       "#T_97ec3_row41_col5 {\n",
       "  background-color: #fcf4fa;\n",
       "  color: #000000;\n",
       "}\n",
       "#T_97ec3_row41_col7 {\n",
       "  background-color: #f9f2f8;\n",
       "  color: #000000;\n",
       "}\n",
       "</style>\n",
       "<table id=\"T_97ec3_\">\n",
       "  <thead>\n",
       "    <tr>\n",
       "      <th class=\"blank level0\" >&nbsp;</th>\n",
       "      <th class=\"col_heading level0 col0\" >count</th>\n",
       "      <th class=\"col_heading level0 col1\" >mean</th>\n",
       "      <th class=\"col_heading level0 col2\" >std</th>\n",
       "      <th class=\"col_heading level0 col3\" >min</th>\n",
       "      <th class=\"col_heading level0 col4\" >25%</th>\n",
       "      <th class=\"col_heading level0 col5\" >50%</th>\n",
       "      <th class=\"col_heading level0 col6\" >75%</th>\n",
       "      <th class=\"col_heading level0 col7\" >max</th>\n",
       "    </tr>\n",
       "  </thead>\n",
       "  <tbody>\n",
       "    <tr>\n",
       "      <th id=\"T_97ec3_level0_row0\" class=\"row_heading level0 row0\" >승차_4시</th>\n",
       "      <td id=\"T_97ec3_row0_col0\" class=\"data row0 col0\" >609.000000</td>\n",
       "      <td id=\"T_97ec3_row0_col1\" class=\"data row0 col1\" >214.275862</td>\n",
       "      <td id=\"T_97ec3_row0_col2\" class=\"data row0 col2\" >730.401737</td>\n",
       "      <td id=\"T_97ec3_row0_col3\" class=\"data row0 col3\" >0.000000</td>\n",
       "      <td id=\"T_97ec3_row0_col4\" class=\"data row0 col4\" >5.000000</td>\n",
       "      <td id=\"T_97ec3_row0_col5\" class=\"data row0 col5\" >24.000000</td>\n",
       "      <td id=\"T_97ec3_row0_col6\" class=\"data row0 col6\" >123.000000</td>\n",
       "      <td id=\"T_97ec3_row0_col7\" class=\"data row0 col7\" >11576.000000</td>\n",
       "    </tr>\n",
       "    <tr>\n",
       "      <th id=\"T_97ec3_level0_row1\" class=\"row_heading level0 row1\" >하차_4시</th>\n",
       "      <td id=\"T_97ec3_row1_col0\" class=\"data row1 col0\" >609.000000</td>\n",
       "      <td id=\"T_97ec3_row1_col1\" class=\"data row1 col1\" >2.738916</td>\n",
       "      <td id=\"T_97ec3_row1_col2\" class=\"data row1 col2\" >6.812514</td>\n",
       "      <td id=\"T_97ec3_row1_col3\" class=\"data row1 col3\" >0.000000</td>\n",
       "      <td id=\"T_97ec3_row1_col4\" class=\"data row1 col4\" >0.000000</td>\n",
       "      <td id=\"T_97ec3_row1_col5\" class=\"data row1 col5\" >0.000000</td>\n",
       "      <td id=\"T_97ec3_row1_col6\" class=\"data row1 col6\" >2.000000</td>\n",
       "      <td id=\"T_97ec3_row1_col7\" class=\"data row1 col7\" >92.000000</td>\n",
       "    </tr>\n",
       "    <tr>\n",
       "      <th id=\"T_97ec3_level0_row2\" class=\"row_heading level0 row2\" >승차_5시</th>\n",
       "      <td id=\"T_97ec3_row2_col0\" class=\"data row2 col0\" >609.000000</td>\n",
       "      <td id=\"T_97ec3_row2_col1\" class=\"data row2 col1\" >4773.607553</td>\n",
       "      <td id=\"T_97ec3_row2_col2\" class=\"data row2 col2\" >5407.044476</td>\n",
       "      <td id=\"T_97ec3_row2_col3\" class=\"data row2 col3\" >0.000000</td>\n",
       "      <td id=\"T_97ec3_row2_col4\" class=\"data row2 col4\" >1337.000000</td>\n",
       "      <td id=\"T_97ec3_row2_col5\" class=\"data row2 col5\" >3151.000000</td>\n",
       "      <td id=\"T_97ec3_row2_col6\" class=\"data row2 col6\" >6209.000000</td>\n",
       "      <td id=\"T_97ec3_row2_col7\" class=\"data row2 col7\" >40053.000000</td>\n",
       "    </tr>\n",
       "    <tr>\n",
       "      <th id=\"T_97ec3_level0_row3\" class=\"row_heading level0 row3\" >하차_5시</th>\n",
       "      <td id=\"T_97ec3_row3_col0\" class=\"data row3 col0\" >609.000000</td>\n",
       "      <td id=\"T_97ec3_row3_col1\" class=\"data row3 col1\" >1216.275862</td>\n",
       "      <td id=\"T_97ec3_row3_col2\" class=\"data row3 col2\" >1315.836737</td>\n",
       "      <td id=\"T_97ec3_row3_col3\" class=\"data row3 col3\" >0.000000</td>\n",
       "      <td id=\"T_97ec3_row3_col4\" class=\"data row3 col4\" >385.000000</td>\n",
       "      <td id=\"T_97ec3_row3_col5\" class=\"data row3 col5\" >843.000000</td>\n",
       "      <td id=\"T_97ec3_row3_col6\" class=\"data row3 col6\" >1577.000000</td>\n",
       "      <td id=\"T_97ec3_row3_col7\" class=\"data row3 col7\" >10474.000000</td>\n",
       "    </tr>\n",
       "    <tr>\n",
       "      <th id=\"T_97ec3_level0_row4\" class=\"row_heading level0 row4\" >승차_6시</th>\n",
       "      <td id=\"T_97ec3_row4_col0\" class=\"data row4 col0\" >609.000000</td>\n",
       "      <td id=\"T_97ec3_row4_col1\" class=\"data row4 col1\" >9846.389163</td>\n",
       "      <td id=\"T_97ec3_row4_col2\" class=\"data row4 col2\" >9443.411994</td>\n",
       "      <td id=\"T_97ec3_row4_col3\" class=\"data row4 col3\" >0.000000</td>\n",
       "      <td id=\"T_97ec3_row4_col4\" class=\"data row4 col4\" >3107.000000</td>\n",
       "      <td id=\"T_97ec3_row4_col5\" class=\"data row4 col5\" >7345.000000</td>\n",
       "      <td id=\"T_97ec3_row4_col6\" class=\"data row4 col6\" >13546.000000</td>\n",
       "      <td id=\"T_97ec3_row4_col7\" class=\"data row4 col7\" >75013.000000</td>\n",
       "    </tr>\n",
       "    <tr>\n",
       "      <th id=\"T_97ec3_level0_row5\" class=\"row_heading level0 row5\" >하차_6시</th>\n",
       "      <td id=\"T_97ec3_row5_col0\" class=\"data row5 col0\" >609.000000</td>\n",
       "      <td id=\"T_97ec3_row5_col1\" class=\"data row5 col1\" >6432.412151</td>\n",
       "      <td id=\"T_97ec3_row5_col2\" class=\"data row5 col2\" >6641.699066</td>\n",
       "      <td id=\"T_97ec3_row5_col3\" class=\"data row5 col3\" >0.000000</td>\n",
       "      <td id=\"T_97ec3_row5_col4\" class=\"data row5 col4\" >2252.000000</td>\n",
       "      <td id=\"T_97ec3_row5_col5\" class=\"data row5 col5\" >4470.000000</td>\n",
       "      <td id=\"T_97ec3_row5_col6\" class=\"data row5 col6\" >8304.000000</td>\n",
       "      <td id=\"T_97ec3_row5_col7\" class=\"data row5 col7\" >48420.000000</td>\n",
       "    </tr>\n",
       "    <tr>\n",
       "      <th id=\"T_97ec3_level0_row6\" class=\"row_heading level0 row6\" >승차_7시</th>\n",
       "      <td id=\"T_97ec3_row6_col0\" class=\"data row6 col0\" >609.000000</td>\n",
       "      <td id=\"T_97ec3_row6_col1\" class=\"data row6 col1\" >25392.817734</td>\n",
       "      <td id=\"T_97ec3_row6_col2\" class=\"data row6 col2\" >25022.494973</td>\n",
       "      <td id=\"T_97ec3_row6_col3\" class=\"data row6 col3\" >0.000000</td>\n",
       "      <td id=\"T_97ec3_row6_col4\" class=\"data row6 col4\" >7449.000000</td>\n",
       "      <td id=\"T_97ec3_row6_col5\" class=\"data row6 col5\" >18268.000000</td>\n",
       "      <td id=\"T_97ec3_row6_col6\" class=\"data row6 col6\" >35133.000000</td>\n",
       "      <td id=\"T_97ec3_row6_col7\" class=\"data row6 col7\" >199033.000000</td>\n",
       "    </tr>\n",
       "    <tr>\n",
       "      <th id=\"T_97ec3_level0_row7\" class=\"row_heading level0 row7\" >하차_7시</th>\n",
       "      <td id=\"T_97ec3_row7_col0\" class=\"data row7 col0\" >609.000000</td>\n",
       "      <td id=\"T_97ec3_row7_col1\" class=\"data row7 col1\" >14817.957307</td>\n",
       "      <td id=\"T_97ec3_row7_col2\" class=\"data row7 col2\" >19008.442489</td>\n",
       "      <td id=\"T_97ec3_row7_col3\" class=\"data row7 col3\" >0.000000</td>\n",
       "      <td id=\"T_97ec3_row7_col4\" class=\"data row7 col4\" >4528.000000</td>\n",
       "      <td id=\"T_97ec3_row7_col5\" class=\"data row7 col5\" >8622.000000</td>\n",
       "      <td id=\"T_97ec3_row7_col6\" class=\"data row7 col6\" >16511.000000</td>\n",
       "      <td id=\"T_97ec3_row7_col7\" class=\"data row7 col7\" >134376.000000</td>\n",
       "    </tr>\n",
       "    <tr>\n",
       "      <th id=\"T_97ec3_level0_row8\" class=\"row_heading level0 row8\" >승차_8시</th>\n",
       "      <td id=\"T_97ec3_row8_col0\" class=\"data row8 col0\" >609.000000</td>\n",
       "      <td id=\"T_97ec3_row8_col1\" class=\"data row8 col1\" >29450.298851</td>\n",
       "      <td id=\"T_97ec3_row8_col2\" class=\"data row8 col2\" >30679.239496</td>\n",
       "      <td id=\"T_97ec3_row8_col3\" class=\"data row8 col3\" >0.000000</td>\n",
       "      <td id=\"T_97ec3_row8_col4\" class=\"data row8 col4\" >9366.000000</td>\n",
       "      <td id=\"T_97ec3_row8_col5\" class=\"data row8 col5\" >21338.000000</td>\n",
       "      <td id=\"T_97ec3_row8_col6\" class=\"data row8 col6\" >40006.000000</td>\n",
       "      <td id=\"T_97ec3_row8_col7\" class=\"data row8 col7\" >314323.000000</td>\n",
       "    </tr>\n",
       "    <tr>\n",
       "      <th id=\"T_97ec3_level0_row9\" class=\"row_heading level0 row9\" >하차_8시</th>\n",
       "      <td id=\"T_97ec3_row9_col0\" class=\"data row9 col0\" >609.000000</td>\n",
       "      <td id=\"T_97ec3_row9_col1\" class=\"data row9 col1\" >35005.763547</td>\n",
       "      <td id=\"T_97ec3_row9_col2\" class=\"data row9 col2\" >50006.533136</td>\n",
       "      <td id=\"T_97ec3_row9_col3\" class=\"data row9 col3\" >0.000000</td>\n",
       "      <td id=\"T_97ec3_row9_col4\" class=\"data row9 col4\" >8360.000000</td>\n",
       "      <td id=\"T_97ec3_row9_col5\" class=\"data row9 col5\" >18549.000000</td>\n",
       "      <td id=\"T_97ec3_row9_col6\" class=\"data row9 col6\" >37267.000000</td>\n",
       "      <td id=\"T_97ec3_row9_col7\" class=\"data row9 col7\" >396519.000000</td>\n",
       "    </tr>\n",
       "    <tr>\n",
       "      <th id=\"T_97ec3_level0_row10\" class=\"row_heading level0 row10\" >승차_9시</th>\n",
       "      <td id=\"T_97ec3_row10_col0\" class=\"data row10 col0\" >609.000000</td>\n",
       "      <td id=\"T_97ec3_row10_col1\" class=\"data row10 col1\" >17476.720854</td>\n",
       "      <td id=\"T_97ec3_row10_col2\" class=\"data row10 col2\" >17726.855554</td>\n",
       "      <td id=\"T_97ec3_row10_col3\" class=\"data row10 col3\" >0.000000</td>\n",
       "      <td id=\"T_97ec3_row10_col4\" class=\"data row10 col4\" >6196.000000</td>\n",
       "      <td id=\"T_97ec3_row10_col5\" class=\"data row10 col5\" >12790.000000</td>\n",
       "      <td id=\"T_97ec3_row10_col6\" class=\"data row10 col6\" >23207.000000</td>\n",
       "      <td id=\"T_97ec3_row10_col7\" class=\"data row10 col7\" >183802.000000</td>\n",
       "    </tr>\n",
       "    <tr>\n",
       "      <th id=\"T_97ec3_level0_row11\" class=\"row_heading level0 row11\" >하차_9시</th>\n",
       "      <td id=\"T_97ec3_row11_col0\" class=\"data row11 col0\" >609.000000</td>\n",
       "      <td id=\"T_97ec3_row11_col1\" class=\"data row11 col1\" >22788.799672</td>\n",
       "      <td id=\"T_97ec3_row11_col2\" class=\"data row11 col2\" >34802.173479</td>\n",
       "      <td id=\"T_97ec3_row11_col3\" class=\"data row11 col3\" >0.000000</td>\n",
       "      <td id=\"T_97ec3_row11_col4\" class=\"data row11 col4\" >4949.000000</td>\n",
       "      <td id=\"T_97ec3_row11_col5\" class=\"data row11 col5\" >11405.000000</td>\n",
       "      <td id=\"T_97ec3_row11_col6\" class=\"data row11 col6\" >25818.000000</td>\n",
       "      <td id=\"T_97ec3_row11_col7\" class=\"data row11 col7\" >318239.000000</td>\n",
       "    </tr>\n",
       "    <tr>\n",
       "      <th id=\"T_97ec3_level0_row12\" class=\"row_heading level0 row12\" >승차_10시</th>\n",
       "      <td id=\"T_97ec3_row12_col0\" class=\"data row12 col0\" >609.000000</td>\n",
       "      <td id=\"T_97ec3_row12_col1\" class=\"data row12 col1\" >12783.300493</td>\n",
       "      <td id=\"T_97ec3_row12_col2\" class=\"data row12 col2\" >11289.331960</td>\n",
       "      <td id=\"T_97ec3_row12_col3\" class=\"data row12 col3\" >0.000000</td>\n",
       "      <td id=\"T_97ec3_row12_col4\" class=\"data row12 col4\" >4928.000000</td>\n",
       "      <td id=\"T_97ec3_row12_col5\" class=\"data row12 col5\" >10119.000000</td>\n",
       "      <td id=\"T_97ec3_row12_col6\" class=\"data row12 col6\" >16598.000000</td>\n",
       "      <td id=\"T_97ec3_row12_col7\" class=\"data row12 col7\" >95821.000000</td>\n",
       "    </tr>\n",
       "    <tr>\n",
       "      <th id=\"T_97ec3_level0_row13\" class=\"row_heading level0 row13\" >하차_10시</th>\n",
       "      <td id=\"T_97ec3_row13_col0\" class=\"data row13 col0\" >609.000000</td>\n",
       "      <td id=\"T_97ec3_row13_col1\" class=\"data row13 col1\" >13914.968801</td>\n",
       "      <td id=\"T_97ec3_row13_col2\" class=\"data row13 col2\" >16663.019200</td>\n",
       "      <td id=\"T_97ec3_row13_col3\" class=\"data row13 col3\" >0.000000</td>\n",
       "      <td id=\"T_97ec3_row13_col4\" class=\"data row13 col4\" >3975.000000</td>\n",
       "      <td id=\"T_97ec3_row13_col5\" class=\"data row13 col5\" >8500.000000</td>\n",
       "      <td id=\"T_97ec3_row13_col6\" class=\"data row13 col6\" >17309.000000</td>\n",
       "      <td id=\"T_97ec3_row13_col7\" class=\"data row13 col7\" >147977.000000</td>\n",
       "    </tr>\n",
       "    <tr>\n",
       "      <th id=\"T_97ec3_level0_row14\" class=\"row_heading level0 row14\" >승차_11시</th>\n",
       "      <td id=\"T_97ec3_row14_col0\" class=\"data row14 col0\" >609.000000</td>\n",
       "      <td id=\"T_97ec3_row14_col1\" class=\"data row14 col1\" >12820.009852</td>\n",
       "      <td id=\"T_97ec3_row14_col2\" class=\"data row14 col2\" >11036.688485</td>\n",
       "      <td id=\"T_97ec3_row14_col3\" class=\"data row14 col3\" >0.000000</td>\n",
       "      <td id=\"T_97ec3_row14_col4\" class=\"data row14 col4\" >4938.000000</td>\n",
       "      <td id=\"T_97ec3_row14_col5\" class=\"data row14 col5\" >10254.000000</td>\n",
       "      <td id=\"T_97ec3_row14_col6\" class=\"data row14 col6\" >17234.000000</td>\n",
       "      <td id=\"T_97ec3_row14_col7\" class=\"data row14 col7\" >77218.000000</td>\n",
       "    </tr>\n",
       "    <tr>\n",
       "      <th id=\"T_97ec3_level0_row15\" class=\"row_heading level0 row15\" >하차_11시</th>\n",
       "      <td id=\"T_97ec3_row15_col0\" class=\"data row15 col0\" >609.000000</td>\n",
       "      <td id=\"T_97ec3_row15_col1\" class=\"data row15 col1\" >12805.600985</td>\n",
       "      <td id=\"T_97ec3_row15_col2\" class=\"data row15 col2\" >13975.130007</td>\n",
       "      <td id=\"T_97ec3_row15_col3\" class=\"data row15 col3\" >0.000000</td>\n",
       "      <td id=\"T_97ec3_row15_col4\" class=\"data row15 col4\" >4063.000000</td>\n",
       "      <td id=\"T_97ec3_row15_col5\" class=\"data row15 col5\" >8427.000000</td>\n",
       "      <td id=\"T_97ec3_row15_col6\" class=\"data row15 col6\" >16162.000000</td>\n",
       "      <td id=\"T_97ec3_row15_col7\" class=\"data row15 col7\" >105735.000000</td>\n",
       "    </tr>\n",
       "    <tr>\n",
       "      <th id=\"T_97ec3_level0_row16\" class=\"row_heading level0 row16\" >승차_12시</th>\n",
       "      <td id=\"T_97ec3_row16_col0\" class=\"data row16 col0\" >609.000000</td>\n",
       "      <td id=\"T_97ec3_row16_col1\" class=\"data row16 col1\" >13962.799672</td>\n",
       "      <td id=\"T_97ec3_row16_col2\" class=\"data row16 col2\" >12231.132437</td>\n",
       "      <td id=\"T_97ec3_row16_col3\" class=\"data row16 col3\" >0.000000</td>\n",
       "      <td id=\"T_97ec3_row16_col4\" class=\"data row16 col4\" >5473.000000</td>\n",
       "      <td id=\"T_97ec3_row16_col5\" class=\"data row16 col5\" >11110.000000</td>\n",
       "      <td id=\"T_97ec3_row16_col6\" class=\"data row16 col6\" >18447.000000</td>\n",
       "      <td id=\"T_97ec3_row16_col7\" class=\"data row16 col7\" >82617.000000</td>\n",
       "    </tr>\n",
       "    <tr>\n",
       "      <th id=\"T_97ec3_level0_row17\" class=\"row_heading level0 row17\" >하차_12시</th>\n",
       "      <td id=\"T_97ec3_row17_col0\" class=\"data row17 col0\" >609.000000</td>\n",
       "      <td id=\"T_97ec3_row17_col1\" class=\"data row17 col1\" >13511.159278</td>\n",
       "      <td id=\"T_97ec3_row17_col2\" class=\"data row17 col2\" >14002.850173</td>\n",
       "      <td id=\"T_97ec3_row17_col3\" class=\"data row17 col3\" >0.000000</td>\n",
       "      <td id=\"T_97ec3_row17_col4\" class=\"data row17 col4\" >4575.000000</td>\n",
       "      <td id=\"T_97ec3_row17_col5\" class=\"data row17 col5\" >9303.000000</td>\n",
       "      <td id=\"T_97ec3_row17_col6\" class=\"data row17 col6\" >17495.000000</td>\n",
       "      <td id=\"T_97ec3_row17_col7\" class=\"data row17 col7\" >105018.000000</td>\n",
       "    </tr>\n",
       "    <tr>\n",
       "      <th id=\"T_97ec3_level0_row18\" class=\"row_heading level0 row18\" >승차_13시</th>\n",
       "      <td id=\"T_97ec3_row18_col0\" class=\"data row18 col0\" >609.000000</td>\n",
       "      <td id=\"T_97ec3_row18_col1\" class=\"data row18 col1\" >14287.957307</td>\n",
       "      <td id=\"T_97ec3_row18_col2\" class=\"data row18 col2\" >12948.588007</td>\n",
       "      <td id=\"T_97ec3_row18_col3\" class=\"data row18 col3\" >0.000000</td>\n",
       "      <td id=\"T_97ec3_row18_col4\" class=\"data row18 col4\" >5641.000000</td>\n",
       "      <td id=\"T_97ec3_row18_col5\" class=\"data row18 col5\" >11040.000000</td>\n",
       "      <td id=\"T_97ec3_row18_col6\" class=\"data row18 col6\" >18655.000000</td>\n",
       "      <td id=\"T_97ec3_row18_col7\" class=\"data row18 col7\" >96001.000000</td>\n",
       "    </tr>\n",
       "    <tr>\n",
       "      <th id=\"T_97ec3_level0_row19\" class=\"row_heading level0 row19\" >하차_13시</th>\n",
       "      <td id=\"T_97ec3_row19_col0\" class=\"data row19 col0\" >609.000000</td>\n",
       "      <td id=\"T_97ec3_row19_col1\" class=\"data row19 col1\" >14462.981938</td>\n",
       "      <td id=\"T_97ec3_row19_col2\" class=\"data row19 col2\" >15072.539588</td>\n",
       "      <td id=\"T_97ec3_row19_col3\" class=\"data row19 col3\" >0.000000</td>\n",
       "      <td id=\"T_97ec3_row19_col4\" class=\"data row19 col4\" >4905.000000</td>\n",
       "      <td id=\"T_97ec3_row19_col5\" class=\"data row19 col5\" >10217.000000</td>\n",
       "      <td id=\"T_97ec3_row19_col6\" class=\"data row19 col6\" >18788.000000</td>\n",
       "      <td id=\"T_97ec3_row19_col7\" class=\"data row19 col7\" >121180.000000</td>\n",
       "    </tr>\n",
       "    <tr>\n",
       "      <th id=\"T_97ec3_level0_row20\" class=\"row_heading level0 row20\" >승차_14시</th>\n",
       "      <td id=\"T_97ec3_row20_col0\" class=\"data row20 col0\" >609.000000</td>\n",
       "      <td id=\"T_97ec3_row20_col1\" class=\"data row20 col1\" >14438.229885</td>\n",
       "      <td id=\"T_97ec3_row20_col2\" class=\"data row20 col2\" >13608.264051</td>\n",
       "      <td id=\"T_97ec3_row20_col3\" class=\"data row20 col3\" >0.000000</td>\n",
       "      <td id=\"T_97ec3_row20_col4\" class=\"data row20 col4\" >5426.000000</td>\n",
       "      <td id=\"T_97ec3_row20_col5\" class=\"data row20 col5\" >10641.000000</td>\n",
       "      <td id=\"T_97ec3_row20_col6\" class=\"data row20 col6\" >19356.000000</td>\n",
       "      <td id=\"T_97ec3_row20_col7\" class=\"data row20 col7\" >105489.000000</td>\n",
       "    </tr>\n",
       "    <tr>\n",
       "      <th id=\"T_97ec3_level0_row21\" class=\"row_heading level0 row21\" >하차_14시</th>\n",
       "      <td id=\"T_97ec3_row21_col0\" class=\"data row21 col0\" >609.000000</td>\n",
       "      <td id=\"T_97ec3_row21_col1\" class=\"data row21 col1\" >14045.362890</td>\n",
       "      <td id=\"T_97ec3_row21_col2\" class=\"data row21 col2\" >14362.579084</td>\n",
       "      <td id=\"T_97ec3_row21_col3\" class=\"data row21 col3\" >0.000000</td>\n",
       "      <td id=\"T_97ec3_row21_col4\" class=\"data row21 col4\" >4711.000000</td>\n",
       "      <td id=\"T_97ec3_row21_col5\" class=\"data row21 col5\" >10205.000000</td>\n",
       "      <td id=\"T_97ec3_row21_col6\" class=\"data row21 col6\" >18112.000000</td>\n",
       "      <td id=\"T_97ec3_row21_col7\" class=\"data row21 col7\" >112328.000000</td>\n",
       "    </tr>\n",
       "    <tr>\n",
       "      <th id=\"T_97ec3_level0_row22\" class=\"row_heading level0 row22\" >승차_15시</th>\n",
       "      <td id=\"T_97ec3_row22_col0\" class=\"data row22 col0\" >609.000000</td>\n",
       "      <td id=\"T_97ec3_row22_col1\" class=\"data row22 col1\" >16272.178982</td>\n",
       "      <td id=\"T_97ec3_row22_col2\" class=\"data row22 col2\" >15977.948391</td>\n",
       "      <td id=\"T_97ec3_row22_col3\" class=\"data row22 col3\" >0.000000</td>\n",
       "      <td id=\"T_97ec3_row22_col4\" class=\"data row22 col4\" >6062.000000</td>\n",
       "      <td id=\"T_97ec3_row22_col5\" class=\"data row22 col5\" >11555.000000</td>\n",
       "      <td id=\"T_97ec3_row22_col6\" class=\"data row22 col6\" >20741.000000</td>\n",
       "      <td id=\"T_97ec3_row22_col7\" class=\"data row22 col7\" >132929.000000</td>\n",
       "    </tr>\n",
       "    <tr>\n",
       "      <th id=\"T_97ec3_level0_row23\" class=\"row_heading level0 row23\" >하차_15시</th>\n",
       "      <td id=\"T_97ec3_row23_col0\" class=\"data row23 col0\" >609.000000</td>\n",
       "      <td id=\"T_97ec3_row23_col1\" class=\"data row23 col1\" >14976.014778</td>\n",
       "      <td id=\"T_97ec3_row23_col2\" class=\"data row23 col2\" >14695.178248</td>\n",
       "      <td id=\"T_97ec3_row23_col3\" class=\"data row23 col3\" >0.000000</td>\n",
       "      <td id=\"T_97ec3_row23_col4\" class=\"data row23 col4\" >5281.000000</td>\n",
       "      <td id=\"T_97ec3_row23_col5\" class=\"data row23 col5\" >10807.000000</td>\n",
       "      <td id=\"T_97ec3_row23_col6\" class=\"data row23 col6\" >19450.000000</td>\n",
       "      <td id=\"T_97ec3_row23_col7\" class=\"data row23 col7\" >114071.000000</td>\n",
       "    </tr>\n",
       "    <tr>\n",
       "      <th id=\"T_97ec3_level0_row24\" class=\"row_heading level0 row24\" >승차_16시</th>\n",
       "      <td id=\"T_97ec3_row24_col0\" class=\"data row24 col0\" >609.000000</td>\n",
       "      <td id=\"T_97ec3_row24_col1\" class=\"data row24 col1\" >19351.602627</td>\n",
       "      <td id=\"T_97ec3_row24_col2\" class=\"data row24 col2\" >19060.843965</td>\n",
       "      <td id=\"T_97ec3_row24_col3\" class=\"data row24 col3\" >0.000000</td>\n",
       "      <td id=\"T_97ec3_row24_col4\" class=\"data row24 col4\" >7311.000000</td>\n",
       "      <td id=\"T_97ec3_row24_col5\" class=\"data row24 col5\" >14155.000000</td>\n",
       "      <td id=\"T_97ec3_row24_col6\" class=\"data row24 col6\" >25220.000000</td>\n",
       "      <td id=\"T_97ec3_row24_col7\" class=\"data row24 col7\" >153274.000000</td>\n",
       "    </tr>\n",
       "    <tr>\n",
       "      <th id=\"T_97ec3_level0_row25\" class=\"row_heading level0 row25\" >하차_16시</th>\n",
       "      <td id=\"T_97ec3_row25_col0\" class=\"data row25 col0\" >609.000000</td>\n",
       "      <td id=\"T_97ec3_row25_col1\" class=\"data row25 col1\" >17062.898194</td>\n",
       "      <td id=\"T_97ec3_row25_col2\" class=\"data row25 col2\" >16481.972262</td>\n",
       "      <td id=\"T_97ec3_row25_col3\" class=\"data row25 col3\" >0.000000</td>\n",
       "      <td id=\"T_97ec3_row25_col4\" class=\"data row25 col4\" >5898.000000</td>\n",
       "      <td id=\"T_97ec3_row25_col5\" class=\"data row25 col5\" >12659.000000</td>\n",
       "      <td id=\"T_97ec3_row25_col6\" class=\"data row25 col6\" >21886.000000</td>\n",
       "      <td id=\"T_97ec3_row25_col7\" class=\"data row25 col7\" >124469.000000</td>\n",
       "    </tr>\n",
       "    <tr>\n",
       "      <th id=\"T_97ec3_level0_row26\" class=\"row_heading level0 row26\" >승차_17시</th>\n",
       "      <td id=\"T_97ec3_row26_col0\" class=\"data row26 col0\" >609.000000</td>\n",
       "      <td id=\"T_97ec3_row26_col1\" class=\"data row26 col1\" >26306.745484</td>\n",
       "      <td id=\"T_97ec3_row26_col2\" class=\"data row26 col2\" >30038.992791</td>\n",
       "      <td id=\"T_97ec3_row26_col3\" class=\"data row26 col3\" >0.000000</td>\n",
       "      <td id=\"T_97ec3_row26_col4\" class=\"data row26 col4\" >8598.000000</td>\n",
       "      <td id=\"T_97ec3_row26_col5\" class=\"data row26 col5\" >16431.000000</td>\n",
       "      <td id=\"T_97ec3_row26_col6\" class=\"data row26 col6\" >32423.000000</td>\n",
       "      <td id=\"T_97ec3_row26_col7\" class=\"data row26 col7\" >239827.000000</td>\n",
       "    </tr>\n",
       "    <tr>\n",
       "      <th id=\"T_97ec3_level0_row27\" class=\"row_heading level0 row27\" >하차_17시</th>\n",
       "      <td id=\"T_97ec3_row27_col0\" class=\"data row27 col0\" >609.000000</td>\n",
       "      <td id=\"T_97ec3_row27_col1\" class=\"data row27 col1\" >22068.505747</td>\n",
       "      <td id=\"T_97ec3_row27_col2\" class=\"data row27 col2\" >21439.012843</td>\n",
       "      <td id=\"T_97ec3_row27_col3\" class=\"data row27 col3\" >0.000000</td>\n",
       "      <td id=\"T_97ec3_row27_col4\" class=\"data row27 col4\" >7980.000000</td>\n",
       "      <td id=\"T_97ec3_row27_col5\" class=\"data row27 col5\" >16355.000000</td>\n",
       "      <td id=\"T_97ec3_row27_col6\" class=\"data row27 col6\" >28496.000000</td>\n",
       "      <td id=\"T_97ec3_row27_col7\" class=\"data row27 col7\" >154557.000000</td>\n",
       "    </tr>\n",
       "    <tr>\n",
       "      <th id=\"T_97ec3_level0_row28\" class=\"row_heading level0 row28\" >승차_18시</th>\n",
       "      <td id=\"T_97ec3_row28_col0\" class=\"data row28 col0\" >609.000000</td>\n",
       "      <td id=\"T_97ec3_row28_col1\" class=\"data row28 col1\" >33288.676519</td>\n",
       "      <td id=\"T_97ec3_row28_col2\" class=\"data row28 col2\" >45483.455404</td>\n",
       "      <td id=\"T_97ec3_row28_col3\" class=\"data row28 col3\" >0.000000</td>\n",
       "      <td id=\"T_97ec3_row28_col4\" class=\"data row28 col4\" >8758.000000</td>\n",
       "      <td id=\"T_97ec3_row28_col5\" class=\"data row28 col5\" >17743.000000</td>\n",
       "      <td id=\"T_97ec3_row28_col6\" class=\"data row28 col6\" >37875.000000</td>\n",
       "      <td id=\"T_97ec3_row28_col7\" class=\"data row28 col7\" >332029.000000</td>\n",
       "    </tr>\n",
       "    <tr>\n",
       "      <th id=\"T_97ec3_level0_row29\" class=\"row_heading level0 row29\" >하차_18시</th>\n",
       "      <td id=\"T_97ec3_row29_col0\" class=\"data row29 col0\" >609.000000</td>\n",
       "      <td id=\"T_97ec3_row29_col1\" class=\"data row29 col1\" >31711.591133</td>\n",
       "      <td id=\"T_97ec3_row29_col2\" class=\"data row29 col2\" >32059.641857</td>\n",
       "      <td id=\"T_97ec3_row29_col3\" class=\"data row29 col3\" >0.000000</td>\n",
       "      <td id=\"T_97ec3_row29_col4\" class=\"data row29 col4\" >10733.000000</td>\n",
       "      <td id=\"T_97ec3_row29_col5\" class=\"data row29 col5\" >22727.000000</td>\n",
       "      <td id=\"T_97ec3_row29_col6\" class=\"data row29 col6\" >42113.000000</td>\n",
       "      <td id=\"T_97ec3_row29_col7\" class=\"data row29 col7\" >250516.000000</td>\n",
       "    </tr>\n",
       "    <tr>\n",
       "      <th id=\"T_97ec3_level0_row30\" class=\"row_heading level0 row30\" >승차_19시</th>\n",
       "      <td id=\"T_97ec3_row30_col0\" class=\"data row30 col0\" >609.000000</td>\n",
       "      <td id=\"T_97ec3_row30_col1\" class=\"data row30 col1\" >16545.793103</td>\n",
       "      <td id=\"T_97ec3_row30_col2\" class=\"data row30 col2\" >22826.572911</td>\n",
       "      <td id=\"T_97ec3_row30_col3\" class=\"data row30 col3\" >0.000000</td>\n",
       "      <td id=\"T_97ec3_row30_col4\" class=\"data row30 col4\" >4196.000000</td>\n",
       "      <td id=\"T_97ec3_row30_col5\" class=\"data row30 col5\" >8788.000000</td>\n",
       "      <td id=\"T_97ec3_row30_col6\" class=\"data row30 col6\" >19989.000000</td>\n",
       "      <td id=\"T_97ec3_row30_col7\" class=\"data row30 col7\" >202805.000000</td>\n",
       "    </tr>\n",
       "    <tr>\n",
       "      <th id=\"T_97ec3_level0_row31\" class=\"row_heading level0 row31\" >하차_19시</th>\n",
       "      <td id=\"T_97ec3_row31_col0\" class=\"data row31 col0\" >609.000000</td>\n",
       "      <td id=\"T_97ec3_row31_col1\" class=\"data row31 col1\" >24151.463054</td>\n",
       "      <td id=\"T_97ec3_row31_col2\" class=\"data row31 col2\" >24404.918057</td>\n",
       "      <td id=\"T_97ec3_row31_col3\" class=\"data row31 col3\" >0.000000</td>\n",
       "      <td id=\"T_97ec3_row31_col4\" class=\"data row31 col4\" >8077.000000</td>\n",
       "      <td id=\"T_97ec3_row31_col5\" class=\"data row31 col5\" >17449.000000</td>\n",
       "      <td id=\"T_97ec3_row31_col6\" class=\"data row31 col6\" >32386.000000</td>\n",
       "      <td id=\"T_97ec3_row31_col7\" class=\"data row31 col7\" >218845.000000</td>\n",
       "    </tr>\n",
       "    <tr>\n",
       "      <th id=\"T_97ec3_level0_row32\" class=\"row_heading level0 row32\" >승차_20시</th>\n",
       "      <td id=\"T_97ec3_row32_col0\" class=\"data row32 col0\" >609.000000</td>\n",
       "      <td id=\"T_97ec3_row32_col1\" class=\"data row32 col1\" >12643.512315</td>\n",
       "      <td id=\"T_97ec3_row32_col2\" class=\"data row32 col2\" >17875.544183</td>\n",
       "      <td id=\"T_97ec3_row32_col3\" class=\"data row32 col3\" >0.000000</td>\n",
       "      <td id=\"T_97ec3_row32_col4\" class=\"data row32 col4\" >2903.000000</td>\n",
       "      <td id=\"T_97ec3_row32_col5\" class=\"data row32 col5\" >6435.000000</td>\n",
       "      <td id=\"T_97ec3_row32_col6\" class=\"data row32 col6\" >15229.000000</td>\n",
       "      <td id=\"T_97ec3_row32_col7\" class=\"data row32 col7\" >154586.000000</td>\n",
       "    </tr>\n",
       "    <tr>\n",
       "      <th id=\"T_97ec3_level0_row33\" class=\"row_heading level0 row33\" >하차_20시</th>\n",
       "      <td id=\"T_97ec3_row33_col0\" class=\"data row33 col0\" >609.000000</td>\n",
       "      <td id=\"T_97ec3_row33_col1\" class=\"data row33 col1\" >13680.400657</td>\n",
       "      <td id=\"T_97ec3_row33_col2\" class=\"data row33 col2\" >13753.743959</td>\n",
       "      <td id=\"T_97ec3_row33_col3\" class=\"data row33 col3\" >0.000000</td>\n",
       "      <td id=\"T_97ec3_row33_col4\" class=\"data row33 col4\" >4641.000000</td>\n",
       "      <td id=\"T_97ec3_row33_col5\" class=\"data row33 col5\" >10033.000000</td>\n",
       "      <td id=\"T_97ec3_row33_col6\" class=\"data row33 col6\" >17833.000000</td>\n",
       "      <td id=\"T_97ec3_row33_col7\" class=\"data row33 col7\" >130527.000000</td>\n",
       "    </tr>\n",
       "    <tr>\n",
       "      <th id=\"T_97ec3_level0_row34\" class=\"row_heading level0 row34\" >승차_21시</th>\n",
       "      <td id=\"T_97ec3_row34_col0\" class=\"data row34 col0\" >609.000000</td>\n",
       "      <td id=\"T_97ec3_row34_col1\" class=\"data row34 col1\" >11757.866995</td>\n",
       "      <td id=\"T_97ec3_row34_col2\" class=\"data row34 col2\" >17526.297431</td>\n",
       "      <td id=\"T_97ec3_row34_col3\" class=\"data row34 col3\" >0.000000</td>\n",
       "      <td id=\"T_97ec3_row34_col4\" class=\"data row34 col4\" >2490.000000</td>\n",
       "      <td id=\"T_97ec3_row34_col5\" class=\"data row34 col5\" >5796.000000</td>\n",
       "      <td id=\"T_97ec3_row34_col6\" class=\"data row34 col6\" >13554.000000</td>\n",
       "      <td id=\"T_97ec3_row34_col7\" class=\"data row34 col7\" >184097.000000</td>\n",
       "    </tr>\n",
       "    <tr>\n",
       "      <th id=\"T_97ec3_level0_row35\" class=\"row_heading level0 row35\" >하차_21시</th>\n",
       "      <td id=\"T_97ec3_row35_col0\" class=\"data row35 col0\" >609.000000</td>\n",
       "      <td id=\"T_97ec3_row35_col1\" class=\"data row35 col1\" >11925.141215</td>\n",
       "      <td id=\"T_97ec3_row35_col2\" class=\"data row35 col2\" >12258.446647</td>\n",
       "      <td id=\"T_97ec3_row35_col3\" class=\"data row35 col3\" >0.000000</td>\n",
       "      <td id=\"T_97ec3_row35_col4\" class=\"data row35 col4\" >3976.000000</td>\n",
       "      <td id=\"T_97ec3_row35_col5\" class=\"data row35 col5\" >8780.000000</td>\n",
       "      <td id=\"T_97ec3_row35_col6\" class=\"data row35 col6\" >15532.000000</td>\n",
       "      <td id=\"T_97ec3_row35_col7\" class=\"data row35 col7\" >120983.000000</td>\n",
       "    </tr>\n",
       "    <tr>\n",
       "      <th id=\"T_97ec3_level0_row36\" class=\"row_heading level0 row36\" >승차_22시</th>\n",
       "      <td id=\"T_97ec3_row36_col0\" class=\"data row36 col0\" >609.000000</td>\n",
       "      <td id=\"T_97ec3_row36_col1\" class=\"data row36 col1\" >9465.829228</td>\n",
       "      <td id=\"T_97ec3_row36_col2\" class=\"data row36 col2\" >15237.624360</td>\n",
       "      <td id=\"T_97ec3_row36_col3\" class=\"data row36 col3\" >0.000000</td>\n",
       "      <td id=\"T_97ec3_row36_col4\" class=\"data row36 col4\" >1722.000000</td>\n",
       "      <td id=\"T_97ec3_row36_col5\" class=\"data row36 col5\" >4243.000000</td>\n",
       "      <td id=\"T_97ec3_row36_col6\" class=\"data row36 col6\" >10981.000000</td>\n",
       "      <td id=\"T_97ec3_row36_col7\" class=\"data row36 col7\" >180028.000000</td>\n",
       "    </tr>\n",
       "    <tr>\n",
       "      <th id=\"T_97ec3_level0_row37\" class=\"row_heading level0 row37\" >하차_22시</th>\n",
       "      <td id=\"T_97ec3_row37_col0\" class=\"data row37 col0\" >609.000000</td>\n",
       "      <td id=\"T_97ec3_row37_col1\" class=\"data row37 col1\" >10812.275862</td>\n",
       "      <td id=\"T_97ec3_row37_col2\" class=\"data row37 col2\" >11388.506506</td>\n",
       "      <td id=\"T_97ec3_row37_col3\" class=\"data row37 col3\" >0.000000</td>\n",
       "      <td id=\"T_97ec3_row37_col4\" class=\"data row37 col4\" >3464.000000</td>\n",
       "      <td id=\"T_97ec3_row37_col5\" class=\"data row37 col5\" >8035.000000</td>\n",
       "      <td id=\"T_97ec3_row37_col6\" class=\"data row37 col6\" >13940.000000</td>\n",
       "      <td id=\"T_97ec3_row37_col7\" class=\"data row37 col7\" >112493.000000</td>\n",
       "    </tr>\n",
       "    <tr>\n",
       "      <th id=\"T_97ec3_level0_row38\" class=\"row_heading level0 row38\" >승차_23시</th>\n",
       "      <td id=\"T_97ec3_row38_col0\" class=\"data row38 col0\" >609.000000</td>\n",
       "      <td id=\"T_97ec3_row38_col1\" class=\"data row38 col1\" >3282.315271</td>\n",
       "      <td id=\"T_97ec3_row38_col2\" class=\"data row38 col2\" >5696.145339</td>\n",
       "      <td id=\"T_97ec3_row38_col3\" class=\"data row38 col3\" >0.000000</td>\n",
       "      <td id=\"T_97ec3_row38_col4\" class=\"data row38 col4\" >593.000000</td>\n",
       "      <td id=\"T_97ec3_row38_col5\" class=\"data row38 col5\" >1426.000000</td>\n",
       "      <td id=\"T_97ec3_row38_col6\" class=\"data row38 col6\" >3689.000000</td>\n",
       "      <td id=\"T_97ec3_row38_col7\" class=\"data row38 col7\" >71371.000000</td>\n",
       "    </tr>\n",
       "    <tr>\n",
       "      <th id=\"T_97ec3_level0_row39\" class=\"row_heading level0 row39\" >하차_23시</th>\n",
       "      <td id=\"T_97ec3_row39_col0\" class=\"data row39 col0\" >609.000000</td>\n",
       "      <td id=\"T_97ec3_row39_col1\" class=\"data row39 col1\" >7023.612479</td>\n",
       "      <td id=\"T_97ec3_row39_col2\" class=\"data row39 col2\" >7415.715215</td>\n",
       "      <td id=\"T_97ec3_row39_col3\" class=\"data row39 col3\" >0.000000</td>\n",
       "      <td id=\"T_97ec3_row39_col4\" class=\"data row39 col4\" >2329.000000</td>\n",
       "      <td id=\"T_97ec3_row39_col5\" class=\"data row39 col5\" >5140.000000</td>\n",
       "      <td id=\"T_97ec3_row39_col6\" class=\"data row39 col6\" >9188.000000</td>\n",
       "      <td id=\"T_97ec3_row39_col7\" class=\"data row39 col7\" >75070.000000</td>\n",
       "    </tr>\n",
       "    <tr>\n",
       "      <th id=\"T_97ec3_level0_row40\" class=\"row_heading level0 row40\" >승차_0시</th>\n",
       "      <td id=\"T_97ec3_row40_col0\" class=\"data row40 col0\" >609.000000</td>\n",
       "      <td id=\"T_97ec3_row40_col1\" class=\"data row40 col1\" >32.669951</td>\n",
       "      <td id=\"T_97ec3_row40_col2\" class=\"data row40 col2\" >72.294157</td>\n",
       "      <td id=\"T_97ec3_row40_col3\" class=\"data row40 col3\" >0.000000</td>\n",
       "      <td id=\"T_97ec3_row40_col4\" class=\"data row40 col4\" >2.000000</td>\n",
       "      <td id=\"T_97ec3_row40_col5\" class=\"data row40 col5\" >9.000000</td>\n",
       "      <td id=\"T_97ec3_row40_col6\" class=\"data row40 col6\" >28.000000</td>\n",
       "      <td id=\"T_97ec3_row40_col7\" class=\"data row40 col7\" >743.000000</td>\n",
       "    </tr>\n",
       "    <tr>\n",
       "      <th id=\"T_97ec3_level0_row41\" class=\"row_heading level0 row41\" >하차_0시</th>\n",
       "      <td id=\"T_97ec3_row41_col0\" class=\"data row41 col0\" >609.000000</td>\n",
       "      <td id=\"T_97ec3_row41_col1\" class=\"data row41 col1\" >1000.384236</td>\n",
       "      <td id=\"T_97ec3_row41_col2\" class=\"data row41 col2\" >1484.411848</td>\n",
       "      <td id=\"T_97ec3_row41_col3\" class=\"data row41 col3\" >0.000000</td>\n",
       "      <td id=\"T_97ec3_row41_col4\" class=\"data row41 col4\" >151.000000</td>\n",
       "      <td id=\"T_97ec3_row41_col5\" class=\"data row41 col5\" >503.000000</td>\n",
       "      <td id=\"T_97ec3_row41_col6\" class=\"data row41 col6\" >1247.000000</td>\n",
       "      <td id=\"T_97ec3_row41_col7\" class=\"data row41 col7\" >15750.000000</td>\n",
       "    </tr>\n",
       "    <tr>\n",
       "      <th id=\"T_97ec3_level0_row42\" class=\"row_heading level0 row42\" >승차_1시</th>\n",
       "      <td id=\"T_97ec3_row42_col0\" class=\"data row42 col0\" >609.000000</td>\n",
       "      <td id=\"T_97ec3_row42_col1\" class=\"data row42 col1\" >0.111658</td>\n",
       "      <td id=\"T_97ec3_row42_col2\" class=\"data row42 col2\" >0.516834</td>\n",
       "      <td id=\"T_97ec3_row42_col3\" class=\"data row42 col3\" >0.000000</td>\n",
       "      <td id=\"T_97ec3_row42_col4\" class=\"data row42 col4\" >0.000000</td>\n",
       "      <td id=\"T_97ec3_row42_col5\" class=\"data row42 col5\" >0.000000</td>\n",
       "      <td id=\"T_97ec3_row42_col6\" class=\"data row42 col6\" >0.000000</td>\n",
       "      <td id=\"T_97ec3_row42_col7\" class=\"data row42 col7\" >8.000000</td>\n",
       "    </tr>\n",
       "    <tr>\n",
       "      <th id=\"T_97ec3_level0_row43\" class=\"row_heading level0 row43\" >하차_1시</th>\n",
       "      <td id=\"T_97ec3_row43_col0\" class=\"data row43 col0\" >609.000000</td>\n",
       "      <td id=\"T_97ec3_row43_col1\" class=\"data row43 col1\" >0.162562</td>\n",
       "      <td id=\"T_97ec3_row43_col2\" class=\"data row43 col2\" >0.674862</td>\n",
       "      <td id=\"T_97ec3_row43_col3\" class=\"data row43 col3\" >0.000000</td>\n",
       "      <td id=\"T_97ec3_row43_col4\" class=\"data row43 col4\" >0.000000</td>\n",
       "      <td id=\"T_97ec3_row43_col5\" class=\"data row43 col5\" >0.000000</td>\n",
       "      <td id=\"T_97ec3_row43_col6\" class=\"data row43 col6\" >0.000000</td>\n",
       "      <td id=\"T_97ec3_row43_col7\" class=\"data row43 col7\" >9.000000</td>\n",
       "    </tr>\n",
       "    <tr>\n",
       "      <th id=\"T_97ec3_level0_row44\" class=\"row_heading level0 row44\" >승차_2시</th>\n",
       "      <td id=\"T_97ec3_row44_col0\" class=\"data row44 col0\" >609.000000</td>\n",
       "      <td id=\"T_97ec3_row44_col1\" class=\"data row44 col1\" >0.021346</td>\n",
       "      <td id=\"T_97ec3_row44_col2\" class=\"data row44 col2\" >0.155611</td>\n",
       "      <td id=\"T_97ec3_row44_col3\" class=\"data row44 col3\" >0.000000</td>\n",
       "      <td id=\"T_97ec3_row44_col4\" class=\"data row44 col4\" >0.000000</td>\n",
       "      <td id=\"T_97ec3_row44_col5\" class=\"data row44 col5\" >0.000000</td>\n",
       "      <td id=\"T_97ec3_row44_col6\" class=\"data row44 col6\" >0.000000</td>\n",
       "      <td id=\"T_97ec3_row44_col7\" class=\"data row44 col7\" >2.000000</td>\n",
       "    </tr>\n",
       "    <tr>\n",
       "      <th id=\"T_97ec3_level0_row45\" class=\"row_heading level0 row45\" >하차_2시</th>\n",
       "      <td id=\"T_97ec3_row45_col0\" class=\"data row45 col0\" >609.000000</td>\n",
       "      <td id=\"T_97ec3_row45_col1\" class=\"data row45 col1\" >0.016420</td>\n",
       "      <td id=\"T_97ec3_row45_col2\" class=\"data row45 col2\" >0.139523</td>\n",
       "      <td id=\"T_97ec3_row45_col3\" class=\"data row45 col3\" >0.000000</td>\n",
       "      <td id=\"T_97ec3_row45_col4\" class=\"data row45 col4\" >0.000000</td>\n",
       "      <td id=\"T_97ec3_row45_col5\" class=\"data row45 col5\" >0.000000</td>\n",
       "      <td id=\"T_97ec3_row45_col6\" class=\"data row45 col6\" >0.000000</td>\n",
       "      <td id=\"T_97ec3_row45_col7\" class=\"data row45 col7\" >2.000000</td>\n",
       "    </tr>\n",
       "    <tr>\n",
       "      <th id=\"T_97ec3_level0_row46\" class=\"row_heading level0 row46\" >승차_3시</th>\n",
       "      <td id=\"T_97ec3_row46_col0\" class=\"data row46 col0\" >609.000000</td>\n",
       "      <td id=\"T_97ec3_row46_col1\" class=\"data row46 col1\" >0.000000</td>\n",
       "      <td id=\"T_97ec3_row46_col2\" class=\"data row46 col2\" >0.000000</td>\n",
       "      <td id=\"T_97ec3_row46_col3\" class=\"data row46 col3\" >0.000000</td>\n",
       "      <td id=\"T_97ec3_row46_col4\" class=\"data row46 col4\" >0.000000</td>\n",
       "      <td id=\"T_97ec3_row46_col5\" class=\"data row46 col5\" >0.000000</td>\n",
       "      <td id=\"T_97ec3_row46_col6\" class=\"data row46 col6\" >0.000000</td>\n",
       "      <td id=\"T_97ec3_row46_col7\" class=\"data row46 col7\" >0.000000</td>\n",
       "    </tr>\n",
       "    <tr>\n",
       "      <th id=\"T_97ec3_level0_row47\" class=\"row_heading level0 row47\" >하차_3시</th>\n",
       "      <td id=\"T_97ec3_row47_col0\" class=\"data row47 col0\" >609.000000</td>\n",
       "      <td id=\"T_97ec3_row47_col1\" class=\"data row47 col1\" >0.001642</td>\n",
       "      <td id=\"T_97ec3_row47_col2\" class=\"data row47 col2\" >0.040522</td>\n",
       "      <td id=\"T_97ec3_row47_col3\" class=\"data row47 col3\" >0.000000</td>\n",
       "      <td id=\"T_97ec3_row47_col4\" class=\"data row47 col4\" >0.000000</td>\n",
       "      <td id=\"T_97ec3_row47_col5\" class=\"data row47 col5\" >0.000000</td>\n",
       "      <td id=\"T_97ec3_row47_col6\" class=\"data row47 col6\" >0.000000</td>\n",
       "      <td id=\"T_97ec3_row47_col7\" class=\"data row47 col7\" >1.000000</td>\n",
       "    </tr>\n",
       "  </tbody>\n",
       "</table>\n"
      ],
      "text/plain": [
       "<pandas.io.formats.style.Styler at 0x7f80f1a88ee0>"
      ]
     },
     "execution_count": 7,
     "metadata": {},
     "output_type": "execute_result"
    }
   ],
   "source": [
    "df.describe().T.style.background_gradient(axis=0)"
   ]
  },
  {
   "cell_type": "code",
   "execution_count": 8,
   "id": "fa720f83",
   "metadata": {
    "ExecuteTime": {
     "end_time": "2022-08-01T16:48:32.920853Z",
     "start_time": "2022-08-01T16:48:32.646319Z"
    }
   },
   "outputs": [
    {
     "data": {
      "image/png": "[encoded data removed]",
      "text/plain": [
       "<Figure size 720x576 with 2 Axes>"
      ]
     },
     "metadata": {
      "needs_background": "light"
     },
     "output_type": "display_data"
    }
   ],
   "source": [
    "# 상관관계\n",
    "plt.figure(figsize=(10, 8))\n",
    "sns.heatmap(df.corr())\n",
    "plt.show()"
   ]
  },
  {
   "cell_type": "code",
   "execution_count": 9,
   "id": "d1762acf",
   "metadata": {
    "ExecuteTime": {
     "end_time": "2022-08-01T16:48:32.933757Z",
     "start_time": "2022-08-01T16:48:32.923093Z"
    }
   },
   "outputs": [
    {
     "data": {
      "text/plain": [
       "지하철역\n",
       "잠실(송파구청)    4742529\n",
       "강남          4475269\n",
       "서울역         4225238\n",
       "고속터미널       4095429\n",
       "홍대입구        3890159\n",
       "선릉          3573716\n",
       "사당          3507790\n",
       "신림          3403013\n",
       "가산디지털단지     3315718\n",
       "구로디지털단지     3177940\n",
       "dtype: int64"
      ]
     },
     "execution_count": 9,
     "metadata": {},
     "output_type": "execute_result"
    }
   ],
   "source": [
    "# 지하철역 top10\n",
    "pd.pivot_table(data=df, index='지하철역', aggfunc='sum').sum(axis=1).sort_values(ascending=False)[:10]"
   ]
  },
  {
   "cell_type": "code",
   "execution_count": 10,
   "id": "816feb5a",
   "metadata": {
    "ExecuteTime": {
     "end_time": "2022-08-01T16:48:32.956887Z",
     "start_time": "2022-08-01T16:48:32.934767Z"
    }
   },
   "outputs": [
    {
     "data": {
      "text/html": [
       "<div>\n",
       "<style scoped>\n",
       "    .dataframe tbody tr th:only-of-type {\n",
       "        vertical-align: middle;\n",
       "    }\n",
       "\n",
       "    .dataframe tbody tr th {\n",
       "        vertical-align: top;\n",
       "    }\n",
       "\n",
       "    .dataframe thead th {\n",
       "        text-align: right;\n",
       "    }\n",
       "</style>\n",
       "<table border=\"1\" class=\"dataframe\">\n",
       "  <thead>\n",
       "    <tr style=\"text-align: right;\">\n",
       "      <th></th>\n",
       "      <th>4시</th>\n",
       "      <th>5시</th>\n",
       "      <th>6시</th>\n",
       "      <th>7시</th>\n",
       "      <th>8시</th>\n",
       "      <th>9시</th>\n",
       "      <th>10시</th>\n",
       "      <th>11시</th>\n",
       "      <th>12시</th>\n",
       "      <th>13시</th>\n",
       "      <th>...</th>\n",
       "      <th>18시</th>\n",
       "      <th>19시</th>\n",
       "      <th>20시</th>\n",
       "      <th>21시</th>\n",
       "      <th>22시</th>\n",
       "      <th>23시</th>\n",
       "      <th>0시</th>\n",
       "      <th>1시</th>\n",
       "      <th>2시</th>\n",
       "      <th>3시</th>\n",
       "    </tr>\n",
       "  </thead>\n",
       "  <tbody>\n",
       "    <tr>\n",
       "      <th>1</th>\n",
       "      <td>641</td>\n",
       "      <td>16043</td>\n",
       "      <td>52831</td>\n",
       "      <td>129673</td>\n",
       "      <td>258855</td>\n",
       "      <td>180429</td>\n",
       "      <td>116889</td>\n",
       "      <td>114799</td>\n",
       "      <td>132040</td>\n",
       "      <td>130950</td>\n",
       "      <td>...</td>\n",
       "      <td>280996</td>\n",
       "      <td>145626</td>\n",
       "      <td>99626</td>\n",
       "      <td>100118</td>\n",
       "      <td>68299</td>\n",
       "      <td>29635</td>\n",
       "      <td>1358</td>\n",
       "      <td>4</td>\n",
       "      <td>4</td>\n",
       "      <td>0</td>\n",
       "    </tr>\n",
       "    <tr>\n",
       "      <th>2</th>\n",
       "      <td>142</td>\n",
       "      <td>3477</td>\n",
       "      <td>7461</td>\n",
       "      <td>13687</td>\n",
       "      <td>29705</td>\n",
       "      <td>24612</td>\n",
       "      <td>27010</td>\n",
       "      <td>36769</td>\n",
       "      <td>45775</td>\n",
       "      <td>55661</td>\n",
       "      <td>...</td>\n",
       "      <td>26685</td>\n",
       "      <td>13770</td>\n",
       "      <td>9382</td>\n",
       "      <td>8577</td>\n",
       "      <td>7657</td>\n",
       "      <td>4029</td>\n",
       "      <td>2025</td>\n",
       "      <td>2</td>\n",
       "      <td>0</td>\n",
       "      <td>0</td>\n",
       "    </tr>\n",
       "    <tr>\n",
       "      <th>3</th>\n",
       "      <td>30</td>\n",
       "      <td>6865</td>\n",
       "      <td>22765</td>\n",
       "      <td>64025</td>\n",
       "      <td>181992</td>\n",
       "      <td>91697</td>\n",
       "      <td>44902</td>\n",
       "      <td>50500</td>\n",
       "      <td>48037</td>\n",
       "      <td>48464</td>\n",
       "      <td>...</td>\n",
       "      <td>163011</td>\n",
       "      <td>60360</td>\n",
       "      <td>47486</td>\n",
       "      <td>45182</td>\n",
       "      <td>29950</td>\n",
       "      <td>9796</td>\n",
       "      <td>374</td>\n",
       "      <td>0</td>\n",
       "      <td>0</td>\n",
       "      <td>0</td>\n",
       "    </tr>\n",
       "    <tr>\n",
       "      <th>4</th>\n",
       "      <td>119</td>\n",
       "      <td>6599</td>\n",
       "      <td>23559</td>\n",
       "      <td>95499</td>\n",
       "      <td>235092</td>\n",
       "      <td>142653</td>\n",
       "      <td>68693</td>\n",
       "      <td>72258</td>\n",
       "      <td>69999</td>\n",
       "      <td>75803</td>\n",
       "      <td>...</td>\n",
       "      <td>241305</td>\n",
       "      <td>101722</td>\n",
       "      <td>77085</td>\n",
       "      <td>83334</td>\n",
       "      <td>64715</td>\n",
       "      <td>26897</td>\n",
       "      <td>533</td>\n",
       "      <td>0</td>\n",
       "      <td>0</td>\n",
       "      <td>0</td>\n",
       "    </tr>\n",
       "    <tr>\n",
       "      <th>5</th>\n",
       "      <td>244</td>\n",
       "      <td>6313</td>\n",
       "      <td>15714</td>\n",
       "      <td>27224</td>\n",
       "      <td>74907</td>\n",
       "      <td>78373</td>\n",
       "      <td>73352</td>\n",
       "      <td>88433</td>\n",
       "      <td>97514</td>\n",
       "      <td>105256</td>\n",
       "      <td>...</td>\n",
       "      <td>129552</td>\n",
       "      <td>72289</td>\n",
       "      <td>48929</td>\n",
       "      <td>50699</td>\n",
       "      <td>41059</td>\n",
       "      <td>17144</td>\n",
       "      <td>1049</td>\n",
       "      <td>1</td>\n",
       "      <td>1</td>\n",
       "      <td>0</td>\n",
       "    </tr>\n",
       "  </tbody>\n",
       "</table>\n",
       "<p>5 rows × 24 columns</p>\n",
       "</div>"
      ],
      "text/plain": [
       "    4시     5시     6시      7시      8시      9시     10시     11시     12시     13시  \\\n",
       "1  641  16043  52831  129673  258855  180429  116889  114799  132040  130950   \n",
       "2  142   3477   7461   13687   29705   24612   27010   36769   45775   55661   \n",
       "3   30   6865  22765   64025  181992   91697   44902   50500   48037   48464   \n",
       "4  119   6599  23559   95499  235092  142653   68693   72258   69999   75803   \n",
       "5  244   6313  15714   27224   74907   78373   73352   88433   97514  105256   \n",
       "\n",
       "   ...     18시     19시    20시     21시    22시    23시    0시  1시  2시  3시  \n",
       "1  ...  280996  145626  99626  100118  68299  29635  1358   4   4   0  \n",
       "2  ...   26685   13770   9382    8577   7657   4029  2025   2   0   0  \n",
       "3  ...  163011   60360  47486   45182  29950   9796   374   0   0   0  \n",
       "4  ...  241305  101722  77085   83334  64715  26897   533   0   0   0  \n",
       "5  ...  129552   72289  48929   50699  41059  17144  1049   1   1   0  \n",
       "\n",
       "[5 rows x 24 columns]"
      ]
     },
     "metadata": {},
     "output_type": "display_data"
    },
    {
     "data": {
      "text/html": [
       "<div>\n",
       "<style scoped>\n",
       "    .dataframe tbody tr th:only-of-type {\n",
       "        vertical-align: middle;\n",
       "    }\n",
       "\n",
       "    .dataframe tbody tr th {\n",
       "        vertical-align: top;\n",
       "    }\n",
       "\n",
       "    .dataframe thead th {\n",
       "        text-align: right;\n",
       "    }\n",
       "</style>\n",
       "<table border=\"1\" class=\"dataframe\">\n",
       "  <thead>\n",
       "    <tr style=\"text-align: right;\">\n",
       "      <th></th>\n",
       "      <th>시간대</th>\n",
       "      <th>유동인구</th>\n",
       "    </tr>\n",
       "  </thead>\n",
       "  <tbody>\n",
       "    <tr>\n",
       "      <th>0</th>\n",
       "      <td>18시</td>\n",
       "      <td>39585163</td>\n",
       "    </tr>\n",
       "    <tr>\n",
       "      <th>1</th>\n",
       "      <td>8시</td>\n",
       "      <td>39253742</td>\n",
       "    </tr>\n",
       "    <tr>\n",
       "      <th>2</th>\n",
       "      <td>17시</td>\n",
       "      <td>29460528</td>\n",
       "    </tr>\n",
       "    <tr>\n",
       "      <th>3</th>\n",
       "      <td>19시</td>\n",
       "      <td>24784629</td>\n",
       "    </tr>\n",
       "    <tr>\n",
       "      <th>4</th>\n",
       "      <td>9시</td>\n",
       "      <td>24521702</td>\n",
       "    </tr>\n",
       "  </tbody>\n",
       "</table>\n",
       "</div>"
      ],
      "text/plain": [
       "   시간대      유동인구\n",
       "0  18시  39585163\n",
       "1   8시  39253742\n",
       "2  17시  29460528\n",
       "3  19시  24784629\n",
       "4   9시  24521702"
      ]
     },
     "metadata": {},
     "output_type": "display_data"
    }
   ],
   "source": [
    "# 승+하차 인원으로 합친 데이터프레임 생성\n",
    "X = pd.DataFrame()\n",
    "\n",
    "for i in range(0, len(df.columns[2:]), 2):\n",
    "    col_names = df.columns[2:][i].split(\"_\")[1] # only 시간\n",
    "    col_values = df.iloc[:, i+2] + df.iloc[:, i+3]  # i+2: 승차, i+3: 하차\n",
    "    \n",
    "    X[col_names] = col_values\n",
    "    \n",
    "display(X.head())\n",
    "\n",
    "# 시간별 top10\n",
    "temp = X.sum().sort_values(ascending=False)[:10]\n",
    "temp_df = pd.DataFrame({'시간대' : temp.index, '유동인구' : temp.values})\n",
    "\n",
    "display(temp_df.head())"
   ]
  },
  {
   "cell_type": "code",
   "execution_count": 11,
   "id": "d11f3a14",
   "metadata": {
    "ExecuteTime": {
     "end_time": "2022-08-01T16:48:33.038668Z",
     "start_time": "2022-08-01T16:48:32.957790Z"
    }
   },
   "outputs": [
    {
     "data": {
      "image/png": "[encoded data removed]",
      "text/plain": [
       "<Figure size 720x576 with 1 Axes>"
      ]
     },
     "metadata": {
      "needs_background": "light"
     },
     "output_type": "display_data"
    }
   ],
   "source": [
    "# 시간별 top10 시각화\n",
    "plt.figure(figsize=(10, 8))\n",
    "ax = sns.barplot(data=temp_df, x='시간대', y='유동인구')\n",
    "ax.yaxis.get_major_formatter().set_scientific(False)\n",
    "plt.ylim(temp.min()-1000000, temp.max()+1000000)  # y축 조정\n",
    "\n",
    "plt.show()"
   ]
  },
  {
   "cell_type": "markdown",
   "id": "9dbb8802",
   "metadata": {
    "id": "9dbb8802"
   },
   "source": [
    "### 3. 전처리"
   ]
  },
  {
   "cell_type": "markdown",
   "id": "b79a6f0a",
   "metadata": {
    "id": "b79a6f0a"
   },
   "source": [
    "#### 결측치 처리"
   ]
  },
  {
   "cell_type": "code",
   "execution_count": 12,
   "id": "bbafdcd0",
   "metadata": {
    "ExecuteTime": {
     "end_time": "2022-08-01T16:48:33.041197Z",
     "start_time": "2022-08-01T16:48:33.039539Z"
    },
    "id": "bbafdcd0"
   },
   "outputs": [],
   "source": [
    "# 결측치가 있는 column\n",
    "# 없음"
   ]
  },
  {
   "cell_type": "markdown",
   "id": "JdO_MINum6pR",
   "metadata": {
    "id": "JdO_MINum6pR"
   },
   "source": [
    "#### feature scaling"
   ]
  },
  {
   "cell_type": "code",
   "execution_count": 13,
   "id": "tNT9eZB0nAmq",
   "metadata": {
    "ExecuteTime": {
     "end_time": "2022-08-01T16:48:33.141675Z",
     "start_time": "2022-08-01T16:48:33.043086Z"
    },
    "id": "tNT9eZB0nAmq"
   },
   "outputs": [],
   "source": [
    "# 표준화\n",
    "from sklearn.preprocessing import StandardScaler\n",
    "\n",
    "scaler = StandardScaler()\n",
    "X = scaler.fit_transform(X)"
   ]
  },
  {
   "cell_type": "markdown",
   "id": "606493f0",
   "metadata": {
    "id": "606493f0"
   },
   "source": [
    "#### feature extraction"
   ]
  },
  {
   "cell_type": "code",
   "execution_count": 14,
   "id": "d9e06d17",
   "metadata": {
    "ExecuteTime": {
     "end_time": "2022-08-01T16:48:33.144459Z",
     "start_time": "2022-08-01T16:48:33.142590Z"
    }
   },
   "outputs": [],
   "source": [
    "feature_reducing = True"
   ]
  },
  {
   "cell_type": "code",
   "execution_count": 15,
   "id": "4a137c94",
   "metadata": {
    "ExecuteTime": {
     "end_time": "2022-08-01T16:48:33.195615Z",
     "start_time": "2022-08-01T16:48:33.145355Z"
    },
    "id": "4a137c94"
   },
   "outputs": [],
   "source": [
    "# PCA 적용\n",
    "from sklearn.decomposition import PCA\n",
    "\n",
    "if feature_reducing:\n",
    "    pca = PCA(n_components=0.9) # PCA(n_components=6)\n",
    "    pca_data = pca.fit_transform(X)"
   ]
  },
  {
   "cell_type": "markdown",
   "id": "crazy-lobby",
   "metadata": {
    "id": "crazy-lobby"
   },
   "source": [
    "### 4. 학습하기"
   ]
  },
  {
   "cell_type": "code",
   "execution_count": 16,
   "id": "arctic-ceremony",
   "metadata": {
    "ExecuteTime": {
     "end_time": "2022-08-01T16:48:33.268116Z",
     "start_time": "2022-08-01T16:48:33.196645Z"
    },
    "id": "arctic-ceremony"
   },
   "outputs": [],
   "source": [
    "# 학습 라이브러리\n",
    "from sklearn.cluster import KMeans, DBSCAN, AgglomerativeClustering, SpectralClustering\n",
    "\n",
    "# 계층 군집 dendrogram 시각화\n",
    "from scipy.cluster.hierarchy import linkage, dendrogram, cut_tree\n",
    "\n",
    "# 평가 지표 시각화\n",
    "from yellowbrick.cluster import SilhouetteVisualizer\n",
    "from yellowbrick.cluster import KElbowVisualizer\n",
    "\n",
    "# 평가 지표\n",
    "from sklearn.metrics import silhouette_score, davies_bouldin_score\n",
    "\n",
    "import os\n",
    "import random\n",
    "from pprint import pprint  # 데이터 예쁘게 출력"
   ]
  },
  {
   "cell_type": "code",
   "execution_count": 17,
   "id": "a6ba1dde",
   "metadata": {
    "ExecuteTime": {
     "end_time": "2022-08-01T16:48:33.272586Z",
     "start_time": "2022-08-01T16:48:33.269415Z"
    }
   },
   "outputs": [],
   "source": [
    "# random seed 고정\n",
    "def set_seeds(seed):\n",
    "    os.environ['PYTHONHASHSEED'] = str(seed) # 모델을 학습시킬 때 마다 seed 고정을 해도 값이 다르게 나올 때 사용\n",
    "    random.seed(seed)\n",
    "    np.random.seed(seed)\n",
    "\n",
    "SEED = 0xC0FFEE\n",
    "set_seeds(SEED)"
   ]
  },
  {
   "cell_type": "code",
   "execution_count": 18,
   "id": "d68d5fce",
   "metadata": {
    "ExecuteTime": {
     "end_time": "2022-08-01T16:48:33.837575Z",
     "start_time": "2022-08-01T16:48:33.273989Z"
    }
   },
   "outputs": [
    {
     "name": "stdout",
     "output_type": "stream",
     "text": [
      "Best score with Spectral Clustering: 0.8152\n"
     ]
    }
   ],
   "source": [
    "# 학습\n",
    "clustering_method = \"sc\"  # \"km\" / \"hac\" / \"dbscan\" / \"sc\"\n",
    "\n",
    "if clustering_method == \"km\":\n",
    "    scores = []\n",
    "\n",
    "    for n_clusters in range(2, 21):\n",
    "        model = KMeans(n_clusters=n_clusters)\n",
    "        pred = model.fit_predict(pca_data)\n",
    "        scores.append(silhouette_score(pca_data, pred))\n",
    "\n",
    "    scores = np.array(scores)\n",
    "    print(f\"Best score with K-means at {scores.argmax()+2} clusters, {scores.max():.4f} score.\")\n",
    "\n",
    "elif clustering_method == \"hac\":\n",
    "    scores = {}\n",
    "    \n",
    "    for linkage in [\"single\", \"average\", \"complete\"]:\n",
    "        temp_dict = {}\n",
    "        \n",
    "        for affinity in [\"euclidean\", \"cosine\", \"manhattan\"]:\n",
    "            model = AgglomerativeClustering(n_clusters=4, affinity=affinity, linkage=linkage)\n",
    "            pred = model.fit_predict(pca_data)\n",
    "            score = davies_bouldin_score(pca_data, pred)\n",
    "            temp_dict[affinity] = score\n",
    "        scores[linkage] = temp_dict\n",
    "    pprint(scores) # dict 데이터 이쁘게 표시\n",
    "\n",
    "elif clustering_method == \"dbscan\":\n",
    "    scores = []\n",
    "    \n",
    "    for minPts in [5, 10, 20]:\n",
    "        for eps in [1, 2, 5, 10]:\n",
    "            model = DBSCAN(metric=\"euclidean\", min_samples=minPts, eps=eps, n_jobs=-1)\n",
    "            pred = model.fit_predict(pca_data)\n",
    "            score = davies_bouldin_score(pca_data, pred)\n",
    "            scores.append(score)\n",
    "    scores = np.array(scores)\n",
    "\n",
    "    print(f\"Best score with DBSCAN: {scores.max():.4f}\")\n",
    "\n",
    "elif clustering_method == \"sc\":\n",
    "    scores = []\n",
    "    \n",
    "    for K in [5, 10, 20]:\n",
    "        model = SpectralClustering(n_clusters=2, n_components=K)\n",
    "        score = silhouette_score(pca_data, model.fit_predict(pca_data))\n",
    "        scores.append(score)\n",
    "    scores = np.array(scores)\n",
    "\n",
    "    print(f\"Best score with Spectral Clustering: {scores.max():.4f}\")"
   ]
  },
  {
   "cell_type": "code",
   "execution_count": 19,
   "id": "1fc41471",
   "metadata": {
    "ExecuteTime": {
     "end_time": "2022-08-01T16:48:33.881219Z",
     "start_time": "2022-08-01T16:48:33.838787Z"
    },
    "scrolled": true
   },
   "outputs": [
    {
     "name": "stdout",
     "output_type": "stream",
     "text": [
      "Silhouette score : 0.6170\n"
     ]
    }
   ],
   "source": [
    "# K-Means\n",
    "km = KMeans(n_clusters=2) \n",
    "km_pred = km.fit_predict(pca_data)\n",
    "\n",
    "print('Silhouette score : %.4f' % silhouette_score(pca_data, km_pred))"
   ]
  },
  {
   "cell_type": "code",
   "execution_count": 20,
   "id": "8cbd3cc5",
   "metadata": {
    "ExecuteTime": {
     "end_time": "2022-08-01T16:48:33.889364Z",
     "start_time": "2022-08-01T16:48:33.882285Z"
    }
   },
   "outputs": [
    {
     "name": "stdout",
     "output_type": "stream",
     "text": [
      "Davies bouldi score : 0.1755\n"
     ]
    }
   ],
   "source": [
    "# Hierarchical Agglomerative Clustering\n",
    "agc = AgglomerativeClustering(n_clusters=4, affinity='euclidean', linkage='single')\n",
    "agc_pred = agc.fit_predict(pca_data)\n",
    "\n",
    "print('Davies bouldi score : %.4f' % davies_bouldin_score(pca_data, agc_pred))"
   ]
  },
  {
   "cell_type": "code",
   "execution_count": 21,
   "id": "daf331be",
   "metadata": {
    "ExecuteTime": {
     "end_time": "2022-08-01T16:48:33.900588Z",
     "start_time": "2022-08-01T16:48:33.890852Z"
    }
   },
   "outputs": [
    {
     "name": "stdout",
     "output_type": "stream",
     "text": [
      "Label : [-1  0] , Number of Clusters : 2\n",
      "Davies bouldi score : 0.1349\n"
     ]
    }
   ],
   "source": [
    "# DBSCAN\n",
    "dbscan = DBSCAN(eps=10, min_samples=5)\n",
    "dbscan_pred = dbscan.fit_predict(pca_data)\n",
    "\n",
    "label_unique = np.unique(dbscan_pred)\n",
    "n_clusters = len(label_unique)\n",
    "\n",
    "print(\"Label :\", label_unique, \", Number of Clusters :\", n_clusters)\n",
    "print('Davies bouldi score : %.4f' % davies_bouldin_score(pca_data, dbscan_pred))"
   ]
  },
  {
   "cell_type": "code",
   "execution_count": 22,
   "id": "cbdef58b",
   "metadata": {
    "ExecuteTime": {
     "end_time": "2022-08-01T16:48:34.123221Z",
     "start_time": "2022-08-01T16:48:33.901815Z"
    }
   },
   "outputs": [
    {
     "name": "stdout",
     "output_type": "stream",
     "text": [
      "Silhouette score : 0.8152\n"
     ]
    }
   ],
   "source": [
    "# SC\n",
    "sc = SpectralClustering(n_clusters=2, n_components=5)\n",
    "sc_pred = sc.fit_predict(pca_data)\n",
    "\n",
    "print('Silhouette score : %.4f' % silhouette_score(pca_data, sc_pred))"
   ]
  },
  {
   "cell_type": "markdown",
   "id": "gjyD69mjb584",
   "metadata": {
    "id": "gjyD69mjb584"
   },
   "source": [
    "### 5. 정량 평가"
   ]
  },
  {
   "cell_type": "code",
   "execution_count": 23,
   "id": "FBGHmx1wb2zY",
   "metadata": {
    "ExecuteTime": {
     "end_time": "2022-08-01T16:48:34.973973Z",
     "start_time": "2022-08-01T16:48:34.124011Z"
    },
    "id": "FBGHmx1wb2zY"
   },
   "outputs": [],
   "source": [
    "# optimal K - elbow method\n",
    "sse = []\n",
    "\n",
    "for n_clusters in range(2, 16):\n",
    "    model = KMeans(n_clusters=n_clusters)\n",
    "    pred = model.fit_predict(pca_data)\n",
    "    sse.append(model.inertia_)"
   ]
  },
  {
   "cell_type": "code",
   "execution_count": 24,
   "id": "c48c7da2",
   "metadata": {
    "ExecuteTime": {
     "end_time": "2022-08-01T16:48:35.049655Z",
     "start_time": "2022-08-01T16:48:34.974902Z"
    }
   },
   "outputs": [
    {
     "data": {
      "image/png": "[encoded data removed]",
      "text/plain": [
       "<Figure size 576x432 with 1 Axes>"
      ]
     },
     "metadata": {},
     "output_type": "display_data"
    }
   ],
   "source": [
    "plt.figure(figsize=(8, 6))\n",
    "plt.title('Find optimal K with elbow method', fontsize=14)\n",
    "plt.xlabel('Number of Cluster(X)', fontsize=10)\n",
    "plt.ylabel('SSE', fontsize=10)\n",
    "plt.plot(range(2, 16), sse, lw=3)\n",
    "\n",
    "plt.show()"
   ]
  },
  {
   "cell_type": "code",
   "execution_count": 25,
   "id": "27ab2d9a",
   "metadata": {
    "ExecuteTime": {
     "end_time": "2022-08-01T16:48:35.141169Z",
     "start_time": "2022-08-01T16:48:35.050910Z"
    }
   },
   "outputs": [
    {
     "data": {
      "image/png": "[encoded data removed]",
      "text/plain": [
       "<Figure size 576x396 with 1 Axes>"
      ]
     },
     "metadata": {},
     "output_type": "display_data"
    },
    {
     "data": {
      "text/plain": [
       "<AxesSubplot:title={'center':'Silhouette Plot of KMeans Clustering for 609 Samples in 2 Centers'}, xlabel='silhouette coefficient values', ylabel='cluster label'>"
      ]
     },
     "execution_count": 25,
     "metadata": {},
     "output_type": "execute_result"
    }
   ],
   "source": [
    "# KMeans - SilhouetteVisualizer \n",
    "visualizer_2 = SilhouetteVisualizer(km, colors='yellowbrick')\n",
    "visualizer_2.fit(pca_data)      \n",
    "visualizer_2.show()"
   ]
  },
  {
   "cell_type": "code",
   "execution_count": 26,
   "id": "ab9ac721",
   "metadata": {
    "ExecuteTime": {
     "end_time": "2022-08-01T16:48:36.189852Z",
     "start_time": "2022-08-01T16:48:35.142032Z"
    }
   },
   "outputs": [
    {
     "data": {
      "image/png": "[encoded data removed]",
      "text/plain": [
       "<Figure size 576x396 with 2 Axes>"
      ]
     },
     "metadata": {},
     "output_type": "display_data"
    },
    {
     "data": {
      "text/plain": [
       "<AxesSubplot:title={'center':'Distortion Score Elbow for KMeans Clustering'}, xlabel='k', ylabel='distortion score'>"
      ]
     },
     "execution_count": 26,
     "metadata": {},
     "output_type": "execute_result"
    }
   ],
   "source": [
    "# KMeans - ElbowVisualizer\n",
    "visualizer = KElbowVisualizer(km, k=(2,16))\n",
    "visualizer.fit(pca_data)\n",
    "visualizer.show() "
   ]
  },
  {
   "cell_type": "markdown",
   "id": "ytqpnvFTcC5O",
   "metadata": {
    "id": "ytqpnvFTcC5O"
   },
   "source": [
    "### 6. 정성 평가"
   ]
  },
  {
   "cell_type": "code",
   "execution_count": 27,
   "id": "VDRXESVGcOl0",
   "metadata": {
    "ExecuteTime": {
     "end_time": "2022-08-01T16:48:37.653031Z",
     "start_time": "2022-08-01T16:48:36.195243Z"
    },
    "id": "VDRXESVGcOl0"
   },
   "outputs": [],
   "source": [
    "# 시각화\n",
    "from sklearn.manifold import TSNE\n",
    "\n",
    "tsne = TSNE(n_components=2, random_state=SEED)\n",
    "tsne_data = tsne.fit_transform(pca_data)"
   ]
  },
  {
   "cell_type": "code",
   "execution_count": 28,
   "id": "3120ab1d",
   "metadata": {
    "ExecuteTime": {
     "end_time": "2022-08-01T16:48:37.727626Z",
     "start_time": "2022-08-01T16:48:37.654043Z"
    }
   },
   "outputs": [
    {
     "data": {
      "image/png": "[encoded data removed]",
      "text/plain": [
       "<Figure size 576x576 with 1 Axes>"
      ]
     },
     "metadata": {},
     "output_type": "display_data"
    }
   ],
   "source": [
    "# K-Means\n",
    "plt.figure(figsize=(8, 8))\n",
    "plt.scatter(tsne_data[:, 0], tsne_data[:, 1], s=10, c=km_pred, cmap='viridis')\n",
    "plt.show()"
   ]
  },
  {
   "cell_type": "code",
   "execution_count": 29,
   "id": "44cb7c34",
   "metadata": {
    "ExecuteTime": {
     "end_time": "2022-08-01T16:48:37.803100Z",
     "start_time": "2022-08-01T16:48:37.728530Z"
    }
   },
   "outputs": [
    {
     "data": {
      "image/png": "[encoded data removed]",
      "text/plain": [
       "<Figure size 576x576 with 1 Axes>"
      ]
     },
     "metadata": {},
     "output_type": "display_data"
    }
   ],
   "source": [
    "# DBSCAN\n",
    "plt.figure(figsize=(8, 8))\n",
    "plt.scatter(tsne_data[:, 0], tsne_data[:, 1], s=10, c=dbscan_pred, cmap='viridis')\n",
    "plt.show()"
   ]
  },
  {
   "cell_type": "code",
   "execution_count": 30,
   "id": "000ff01c",
   "metadata": {
    "ExecuteTime": {
     "end_time": "2022-08-01T16:48:42.439661Z",
     "start_time": "2022-08-01T16:48:37.804621Z"
    }
   },
   "outputs": [
    {
     "data": {
      "image/png": "[encoded data removed]",
      "text/plain": [
       "<Figure size 1080x720 with 1 Axes>"
      ]
     },
     "metadata": {},
     "output_type": "display_data"
    }
   ],
   "source": [
    "# Dendrogram\n",
    "plt.figure(figsize=(15, 10))\n",
    "mergings = linkage(pca_data, method=\"single\", metric='euclidean')\n",
    "dendrogram(mergings)\n",
    "\n",
    "plt.show()"
   ]
  },
  {
   "cell_type": "code",
   "execution_count": 31,
   "id": "fe5d0ef5",
   "metadata": {
    "ExecuteTime": {
     "end_time": "2022-08-01T16:48:42.514234Z",
     "start_time": "2022-08-01T16:48:42.440730Z"
    }
   },
   "outputs": [
    {
     "data": {
      "image/png": "[encoded data removed]",
      "text/plain": [
       "<Figure size 576x576 with 1 Axes>"
      ]
     },
     "metadata": {},
     "output_type": "display_data"
    }
   ],
   "source": [
    "# SpectralClustering\n",
    "plt.figure(figsize=(8, 8))\n",
    "plt.scatter(tsne_data[:, 0], tsne_data[:, 1], s=10, c=sc_pred, cmap='viridis')\n",
    "plt.show()"
   ]
  },
  {
   "cell_type": "code",
   "execution_count": 32,
   "id": "43bfa3a3",
   "metadata": {
    "ExecuteTime": {
     "end_time": "2022-08-01T16:48:42.517096Z",
     "start_time": "2022-08-01T16:48:42.515059Z"
    }
   },
   "outputs": [],
   "source": [
    "# Label\n",
    "df['Cluster_label'] = km_pred"
   ]
  },
  {
   "cell_type": "code",
   "execution_count": 33,
   "id": "032ec363",
   "metadata": {
    "ExecuteTime": {
     "end_time": "2022-08-01T16:48:42.521362Z",
     "start_time": "2022-08-01T16:48:42.517922Z"
    }
   },
   "outputs": [
    {
     "name": "stdout",
     "output_type": "stream",
     "text": [
      "(101, 51) (508, 51)\n"
     ]
    }
   ],
   "source": [
    "# Cluster label1\n",
    "group1 = df.loc[df.Cluster_label == 0, :]\n",
    "group2 = df.loc[df.Cluster_label == 1, :]\n",
    "print(group1.shape, group2.shape)"
   ]
  },
  {
   "cell_type": "code",
   "execution_count": 34,
   "id": "1c1c3847",
   "metadata": {
    "ExecuteTime": {
     "end_time": "2022-08-01T16:48:42.526666Z",
     "start_time": "2022-08-01T16:48:42.522331Z"
    },
    "scrolled": true
   },
   "outputs": [
    {
     "data": {
      "text/plain": [
       "하차_8시     101882.633663\n",
       "승차_18시    100441.009901\n",
       "하차_18시     80233.386139\n",
       "승차_17시     74420.178218\n",
       "하차_9시      71995.405941\n",
       "dtype: float64"
      ]
     },
     "execution_count": 34,
     "metadata": {},
     "output_type": "execute_result"
    }
   ],
   "source": [
    "group1.mean().sort_values(ascending=False)[:5]"
   ]
  },
  {
   "cell_type": "code",
   "execution_count": 35,
   "id": "07cd8caa",
   "metadata": {
    "ExecuteTime": {
     "end_time": "2022-08-01T16:48:42.533934Z",
     "start_time": "2022-08-01T16:48:42.527686Z"
    },
    "scrolled": true
   },
   "outputs": [
    {
     "data": {
      "text/plain": [
       "승차_8시     22512.035433\n",
       "하차_18시    22064.541339\n",
       "하차_8시     21709.377953\n",
       "승차_7시     20113.765748\n",
       "승차_18시    19937.523622\n",
       "dtype: float64"
      ]
     },
     "execution_count": 35,
     "metadata": {},
     "output_type": "execute_result"
    }
   ],
   "source": [
    "group2.mean().sort_values(ascending=False)[:5]"
   ]
  },
  {
   "cell_type": "markdown",
   "id": "e3a32039",
   "metadata": {},
   "source": [
    "- group1 : 8시 하차, 18시 승차, 18시 하차 승객들\n",
    "- group2 : 8시 승차, 18시 하차, 8시 하차 승객들"
   ]
  }
 ],
 "metadata": {
  "colab": {
   "collapsed_sections": [],
   "name": "Chapter.06 실전 머신러닝 프로젝트_Template Code2.ipynb",
   "provenance": []
  },
  "kernelspec": {
   "display_name": "Python 3 (ipykernel)",
   "language": "python",
   "name": "python3"
  },
  "language_info": {
   "codemirror_mode": {
    "name": "ipython",
    "version": 3
   },
   "file_extension": ".py",
   "mimetype": "text/x-python",
   "name": "python",
   "nbconvert_exporter": "python",
   "pygments_lexer": "ipython3",
   "version": "3.9.7"
  },
  "toc": {
   "base_numbering": 1,
   "nav_menu": {},
   "number_sections": true,
   "sideBar": true,
   "skip_h1_title": false,
   "title_cell": "Table of Contents",
   "title_sidebar": "Contents",
   "toc_cell": false,
   "toc_position": {},
   "toc_section_display": true,
   "toc_window_display": false
  },
  "varInspector": {
   "cols": {
    "lenName": 16,
    "lenType": 16,
    "lenVar": 40
   },
   "kernels_config": {
    "python": {
     "delete_cmd_postfix": "",
     "delete_cmd_prefix": "del ",
     "library": "var_list.py",
     "varRefreshCmd": "print(var_dic_list())"
    },
    "r": {
     "delete_cmd_postfix": ") ",
     "delete_cmd_prefix": "rm(",
     "library": "var_list.r",
     "varRefreshCmd": "cat(var_dic_list()) "
    }
   },
   "types_to_exclude": [
    "module",
    "function",
    "builtin_function_or_method",
    "instance",
    "_Feature"
   ],
   "window_display": false
  }
 },
 "nbformat": 4,
 "nbformat_minor": 5
}
